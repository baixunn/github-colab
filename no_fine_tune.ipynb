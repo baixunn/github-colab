{
  "nbformat": 4,
  "nbformat_minor": 0,
  "metadata": {
    "colab": {
      "provenance": [],
      "authorship_tag": "ABX9TyM9FQjqwqQrrkCu1tXHUpuD",
      "include_colab_link": true
    },
    "kernelspec": {
      "name": "python3",
      "display_name": "Python 3"
    },
    "language_info": {
      "name": "python"
    }
  },
  "cells": [
    {
      "cell_type": "markdown",
      "metadata": {
        "id": "view-in-github",
        "colab_type": "text"
      },
      "source": [
        "<a href=\"https://colab.research.google.com/github/wenchun0731/github-colab/blob/try/no_fine_tune.ipynb\" target=\"_parent\"><img src=\"https://colab.research.google.com/assets/colab-badge.svg\" alt=\"Open In Colab\"/></a>"
      ]
    },
    {
      "cell_type": "code",
      "execution_count": 1,
      "metadata": {
        "colab": {
          "base_uri": "https://localhost:8080/"
        },
        "id": "TvYdMz1MLHiM",
        "outputId": "09aab5fe-921f-449d-bcf1-bc6eaf7e49dd"
      },
      "outputs": [
        {
          "output_type": "stream",
          "name": "stdout",
          "text": [
            "Reading package lists... Done\n",
            "Building dependency tree... Done\n",
            "Reading state information... Done\n",
            "The following additional packages will be installed:\n",
            "  tesseract-ocr-eng tesseract-ocr-osd\n",
            "The following NEW packages will be installed:\n",
            "  tesseract-ocr tesseract-ocr-eng tesseract-ocr-osd\n",
            "0 upgraded, 3 newly installed, 0 to remove and 45 not upgraded.\n",
            "Need to get 4,816 kB of archives.\n",
            "After this operation, 15.6 MB of additional disk space will be used.\n",
            "Get:1 http://archive.ubuntu.com/ubuntu jammy/universe amd64 tesseract-ocr-eng all 1:4.00~git30-7274cfa-1.1 [1,591 kB]\n",
            "Get:2 http://archive.ubuntu.com/ubuntu jammy/universe amd64 tesseract-ocr-osd all 1:4.00~git30-7274cfa-1.1 [2,990 kB]\n",
            "Get:3 http://archive.ubuntu.com/ubuntu jammy/universe amd64 tesseract-ocr amd64 4.1.1-2.1build1 [236 kB]\n",
            "Fetched 4,816 kB in 0s (9,655 kB/s)\n",
            "Selecting previously unselected package tesseract-ocr-eng.\n",
            "(Reading database ... 121918 files and directories currently installed.)\n",
            "Preparing to unpack .../tesseract-ocr-eng_1%3a4.00~git30-7274cfa-1.1_all.deb ...\n",
            "Unpacking tesseract-ocr-eng (1:4.00~git30-7274cfa-1.1) ...\n",
            "Selecting previously unselected package tesseract-ocr-osd.\n",
            "Preparing to unpack .../tesseract-ocr-osd_1%3a4.00~git30-7274cfa-1.1_all.deb ...\n",
            "Unpacking tesseract-ocr-osd (1:4.00~git30-7274cfa-1.1) ...\n",
            "Selecting previously unselected package tesseract-ocr.\n",
            "Preparing to unpack .../tesseract-ocr_4.1.1-2.1build1_amd64.deb ...\n",
            "Unpacking tesseract-ocr (4.1.1-2.1build1) ...\n",
            "Setting up tesseract-ocr-eng (1:4.00~git30-7274cfa-1.1) ...\n",
            "Setting up tesseract-ocr-osd (1:4.00~git30-7274cfa-1.1) ...\n",
            "Setting up tesseract-ocr (4.1.1-2.1build1) ...\n",
            "Processing triggers for man-db (2.10.2-1) ...\n",
            "Reading package lists... Done\n",
            "Building dependency tree... Done\n",
            "Reading state information... Done\n",
            "The following additional packages will be installed:\n",
            "  libarchive-dev libleptonica-dev\n",
            "The following NEW packages will be installed:\n",
            "  libarchive-dev libleptonica-dev libtesseract-dev\n",
            "0 upgraded, 3 newly installed, 0 to remove and 45 not upgraded.\n",
            "Need to get 3,743 kB of archives.\n",
            "After this operation, 16.0 MB of additional disk space will be used.\n",
            "Get:1 http://archive.ubuntu.com/ubuntu jammy/main amd64 libarchive-dev amd64 3.6.0-1ubuntu1 [581 kB]\n",
            "Get:2 http://archive.ubuntu.com/ubuntu jammy/universe amd64 libleptonica-dev amd64 1.82.0-3build1 [1,562 kB]\n",
            "Get:3 http://archive.ubuntu.com/ubuntu jammy/universe amd64 libtesseract-dev amd64 4.1.1-2.1build1 [1,600 kB]\n",
            "Fetched 3,743 kB in 0s (8,143 kB/s)\n",
            "Selecting previously unselected package libarchive-dev:amd64.\n",
            "(Reading database ... 121965 files and directories currently installed.)\n",
            "Preparing to unpack .../libarchive-dev_3.6.0-1ubuntu1_amd64.deb ...\n",
            "Unpacking libarchive-dev:amd64 (3.6.0-1ubuntu1) ...\n",
            "Selecting previously unselected package libleptonica-dev.\n",
            "Preparing to unpack .../libleptonica-dev_1.82.0-3build1_amd64.deb ...\n",
            "Unpacking libleptonica-dev (1.82.0-3build1) ...\n",
            "Selecting previously unselected package libtesseract-dev:amd64.\n",
            "Preparing to unpack .../libtesseract-dev_4.1.1-2.1build1_amd64.deb ...\n",
            "Unpacking libtesseract-dev:amd64 (4.1.1-2.1build1) ...\n",
            "Setting up libleptonica-dev (1.82.0-3build1) ...\n",
            "Setting up libarchive-dev:amd64 (3.6.0-1ubuntu1) ...\n",
            "Setting up libtesseract-dev:amd64 (4.1.1-2.1build1) ...\n",
            "Processing triggers for man-db (2.10.2-1) ...\n",
            "Collecting pytesseract\n",
            "  Downloading pytesseract-0.3.10-py3-none-any.whl (14 kB)\n",
            "Requirement already satisfied: packaging>=21.3 in /usr/local/lib/python3.10/dist-packages (from pytesseract) (24.0)\n",
            "Requirement already satisfied: Pillow>=8.0.0 in /usr/local/lib/python3.10/dist-packages (from pytesseract) (9.4.0)\n",
            "Installing collected packages: pytesseract\n",
            "Successfully installed pytesseract-0.3.10\n",
            "Requirement already satisfied: pillow in /usr/local/lib/python3.10/dist-packages (9.4.0)\n"
          ]
        }
      ],
      "source": [
        "!apt install tesseract-ocr\n",
        "!apt install libtesseract-dev\n",
        "!pip install pytesseract\n",
        "!pip install pillow\n",
        "import pytesseract"
      ]
    },
    {
      "cell_type": "code",
      "source": [
        "!apt-get install -y tesseract-ocr-eng"
      ],
      "metadata": {
        "colab": {
          "base_uri": "https://localhost:8080/"
        },
        "id": "G7NwL--TW-Oc",
        "outputId": "e1650764-1beb-4c18-a526-787ff46e4cc5"
      },
      "execution_count": 2,
      "outputs": [
        {
          "output_type": "stream",
          "name": "stdout",
          "text": [
            "Reading package lists... Done\n",
            "Building dependency tree... Done\n",
            "Reading state information... Done\n",
            "tesseract-ocr-eng is already the newest version (1:4.00~git30-7274cfa-1.1).\n",
            "tesseract-ocr-eng set to manually installed.\n",
            "0 upgraded, 0 newly installed, 0 to remove and 45 not upgraded.\n"
          ]
        }
      ]
    },
    {
      "cell_type": "code",
      "source": [
        "!apt-get install -y tesseract-ocr-training"
      ],
      "metadata": {
        "colab": {
          "base_uri": "https://localhost:8080/"
        },
        "id": "87K5L6mUhTln",
        "outputId": "90dbb485-0bfa-488f-83d9-66fb3df08ec3"
      },
      "execution_count": 3,
      "outputs": [
        {
          "output_type": "stream",
          "name": "stdout",
          "text": [
            "Reading package lists... Done\n",
            "Building dependency tree... Done\n",
            "Reading state information... Done\n",
            "E: Unable to locate package tesseract-ocr-training\n"
          ]
        }
      ]
    },
    {
      "cell_type": "markdown",
      "source": [
        "使用tesseract生成.box文件"
      ],
      "metadata": {
        "id": "43jOqTqoCgq9"
      }
    },
    {
      "cell_type": "code",
      "source": [
        "!tesseract num3.font.exp0.tif num3.font.exp0 [-l eng -psm 6] batch.nochop makebox"
      ],
      "metadata": {
        "colab": {
          "base_uri": "https://localhost:8080/"
        },
        "id": "yJNsTBOrLkKJ",
        "outputId": "a6b035a8-8114-4460-f616-38fe85e4f883"
      },
      "execution_count": 4,
      "outputs": [
        {
          "output_type": "stream",
          "name": "stdout",
          "text": [
            "read_params_file: Can't open [-l\n",
            "read_params_file: Can't open eng\n",
            "read_params_file: Can't open -psm\n",
            "read_params_file: Can't open 6]\n",
            "Tesseract Open Source OCR Engine v4.1.1 with Leptonica\n",
            "Page 1\n",
            "Page 2\n",
            "Page 3\n"
          ]
        }
      ]
    },
    {
      "cell_type": "code",
      "source": [
        "import cv2\n",
        "img=cv2.imread('/content/車牌.png')\n",
        "gray_img = cv2.cvtColor(img,cv2.COLOR_BGR2GRAY)\n",
        "thr, binary = cv2.threshold(gray_img,127, 256, cv2.THRESH_BINARY)"
      ],
      "metadata": {
        "id": "UJAB6r8qLnNy"
      },
      "execution_count": null,
      "outputs": []
    },
    {
      "cell_type": "code",
      "source": [
        "from google.colab.patches import cv2_imshow\n",
        "cv2_imshow(binary)"
      ],
      "metadata": {
        "colab": {
          "base_uri": "https://localhost:8080/",
          "height": 216
        },
        "id": "OYv-ga1aPN2X",
        "outputId": "511186c4-91f5-45a3-f2f5-1395e8c3cbd7"
      },
      "execution_count": null,
      "outputs": [
        {
          "output_type": "display_data",
          "data": {
            "text/plain": [
              "<PIL.Image.Image image mode=L size=1002x199>"
            ],
            "image/png": "[encoded data removed]"
          },
          "metadata": {}
        }
      ]
    },
    {
      "cell_type": "code",
      "source": [
        "cv2.imwrite('binary.tif',binary)"
      ],
      "metadata": {
        "colab": {
          "base_uri": "https://localhost:8080/"
        },
        "id": "kTRC31Q1Pg7e",
        "outputId": "951380b1-62ad-4742-d6cb-ec268f72a87d"
      },
      "execution_count": null,
      "outputs": [
        {
          "output_type": "execute_result",
          "data": {
            "text/plain": [
              "True"
            ]
          },
          "metadata": {},
          "execution_count": 20
        }
      ]
    },
    {
      "cell_type": "code",
      "source": [
        "text = pytesseract.image_to_string(binary)"
      ],
      "metadata": {
        "id": "GeUOeXigQ86Y"
      },
      "execution_count": null,
      "outputs": []
    },
    {
      "cell_type": "code",
      "source": [
        "print(text)"
      ],
      "metadata": {
        "colab": {
          "base_uri": "https://localhost:8080/"
        },
        "id": "LqP0woA8XNa5",
        "outputId": "d421fdb4-04ef-471f-8e8b-ea7a53a39750"
      },
      "execution_count": null,
      "outputs": [
        {
          "output_type": "stream",
          "name": "stdout",
          "text": [
            "\f\n"
          ]
        }
      ]
    },
    {
      "cell_type": "code",
      "source": [
        "\n",
        "text = pytesseract.image_to_string('/content/binary.tif')\n",
        "if len(text) ==1:\n",
        "  print('辨識失敗')\n",
        "else:\n",
        "  clean_text = text.strip()#去除兩端不可見字符\n",
        "  print('辨識結果:\\n{}'.format(clean_text))"
      ],
      "metadata": {
        "colab": {
          "base_uri": "https://localhost:8080/"
        },
        "id": "KJ6RpIdMXO0D",
        "outputId": "5e76aec3-527b-4fd2-c4ff-6fbc9d27e862"
      },
      "execution_count": null,
      "outputs": [
        {
          "output_type": "stream",
          "name": "stdout",
          "text": [
            "辨識失敗\n"
          ]
        }
      ]
    },
    {
      "cell_type": "markdown",
      "source": [
        "使用echo命令創建字體特徵文件"
      ],
      "metadata": {
        "id": "5eusDFKhGlkV"
      }
    },
    {
      "cell_type": "code",
      "source": [
        "!echo \"num3 0 0 0 0 0\" > font_properties"
      ],
      "metadata": {
        "id": "sREnVecLXb0m"
      },
      "execution_count": 5,
      "outputs": []
    },
    {
      "cell_type": "markdown",
      "source": [
        "使用tesseract生成num.font.exp0.tr訓練文件"
      ],
      "metadata": {
        "id": "DE2sliGVHAaA"
      }
    },
    {
      "cell_type": "code",
      "source": [
        "!tesseract num3.font.exp0.tif num3.font.exp0 [-l eng -psm 6] nobatch box.train"
      ],
      "metadata": {
        "colab": {
          "base_uri": "https://localhost:8080/"
        },
        "id": "zPUigoAzdxvl",
        "outputId": "8b401b67-38b7-408c-caf0-7f3e00124dc3"
      },
      "execution_count": 6,
      "outputs": [
        {
          "output_type": "stream",
          "name": "stdout",
          "text": [
            "read_params_file: Can't open [-l\n",
            "read_params_file: Can't open eng\n",
            "read_params_file: Can't open -psm\n",
            "read_params_file: Can't open 6]\n",
            "Tesseract Open Source OCR Engine v4.1.1 with Leptonica\n",
            "Page 1\n",
            "FAIL!\n",
            "APPLY_BOXES: boxfile line 8/8 ((273,32),(323,132)): FAILURE! Couldn't find a matching blob\n",
            "APPLY_BOXES:\n",
            "   Boxes read from boxfile:      10\n",
            "   Boxes failed resegmentation:       1\n",
            "   Found 9 good blobs.\n",
            "Generated training data for 2 words\n",
            "Page 2\n",
            "row xheight=48.5, but median xheight = 66.375\n",
            "FAIL!\n",
            "APPLY_BOXES: boxfile line 2/b ((150,546),(201,645)): FAILURE! Couldn't find a matching blob\n",
            "FAIL!\n",
            "APPLY_BOXES: boxfile line 4/D ((384,547),(433,645)): FAILURE! Couldn't find a matching blob\n",
            "APPLY_BOXES: boxfile line 7/G ((132,368),(184,481)): FAILURE! Couldn't find a matching blob\n",
            "FAIL!\n",
            "APPLY_BOXES: boxfile line 11/J ((440,331),(544,485)): FAILURE! Couldn't find a matching blob\n",
            "FAIL!\n",
            "APPLY_BOXES: boxfile line 15/N ((353,169),(448,310)): FAILURE! Couldn't find a matching blob\n",
            "FAIL!\n",
            "APPLY_BOXES: boxfile line 16/O ((459,169),(553,310)): FAILURE! Couldn't find a matching blob\n",
            "FAIL!\n",
            "APPLY_BOXES: boxfile line 21/T ((465,22),(509,125)): FAILURE! Couldn't find a matching blob\n",
            "FAIL!\n",
            "APPLY_BOXES: boxfile line 23/~ ((498,547),(499,644)): FAILURE! Couldn't find a matching blob\n",
            "APPLY_BOXES:\n",
            "   Boxes read from boxfile:      23\n",
            "   Boxes failed resegmentation:       8\n",
            "APPLY_BOXES: Unlabelled word at :Bounding box=(498,547)->(499,644)\n",
            "   Found 15 good blobs.\n",
            "   1 remaining unlabelled words deleted.\n",
            "Generated training data for 4 words\n",
            "Page 3\n",
            "FAIL!\n",
            "APPLY_BOXES: boxfile line 3/i ((239,153),(358,294)): FAILURE! Couldn't find a matching blob\n",
            "FAIL!\n",
            "APPLY_BOXES: boxfile line 4/X ((357,190),(475,290)): FAILURE! Couldn't find a matching blob\n",
            "FAIL!\n",
            "APPLY_BOXES: boxfile line 5/Y ((474,190),(567,290)): FAILURE! Couldn't find a matching blob\n",
            "APPLY_BOXES:\n",
            "   Boxes read from boxfile:       5\n",
            "   Boxes failed resegmentation:       3\n",
            "   Found 2 good blobs.\n",
            "Generated training data for 1 words\n"
          ]
        }
      ]
    },
    {
      "cell_type": "markdown",
      "source": [
        "生成字符集文件\n"
      ],
      "metadata": {
        "id": "KPco0OoaH2C1"
      }
    },
    {
      "cell_type": "code",
      "source": [
        "!unicharset_extractor num3.font.exp0.box"
      ],
      "metadata": {
        "colab": {
          "base_uri": "https://localhost:8080/"
        },
        "id": "oVGz9QytgJAk",
        "outputId": "6bc49ba3-5b4e-499b-9639-1cd9213a3168"
      },
      "execution_count": 8,
      "outputs": [
        {
          "output_type": "stream",
          "name": "stdout",
          "text": [
            "Extracting unicharset from box file num3.font.exp0.box\n",
            "Other case a of A is not in unicharset\n",
            "Other case B of b is not in unicharset\n",
            "Other case c of C is not in unicharset\n",
            "Other case d of D is not in unicharset\n",
            "Other case e of E is not in unicharset\n",
            "Other case f of F is not in unicharset\n",
            "Other case g of G is not in unicharset\n",
            "Other case h of H is not in unicharset\n",
            "Other case j of J is not in unicharset\n",
            "Other case l of L is not in unicharset\n",
            "Other case n of N is not in unicharset\n",
            "Other case p of P is not in unicharset\n",
            "Other case r of R is not in unicharset\n",
            "Other case s of S is not in unicharset\n",
            "Other case t of T is not in unicharset\n",
            "Other case u of U is not in unicharset\n",
            "Other case v of V is not in unicharset\n",
            "Other case x of X is not in unicharset\n",
            "Other case y of Y is not in unicharset\n",
            "Wrote unicharset file unicharset\n"
          ]
        }
      ]
    },
    {
      "cell_type": "markdown",
      "source": [
        "生成數據字典"
      ],
      "metadata": {
        "id": "3X__8wRmIEgF"
      }
    },
    {
      "cell_type": "code",
      "source": [
        "!mftraining -F font_properties -U unicharset -O num3.unicharset num3.font.exp0.tr"
      ],
      "metadata": {
        "colab": {
          "base_uri": "https://localhost:8080/"
        },
        "id": "X6XJZIiegpx1",
        "outputId": "13c74d36-aeba-4d4b-a130-a92a2c421561"
      },
      "execution_count": 9,
      "outputs": [
        {
          "output_type": "stream",
          "name": "stdout",
          "text": [
            "Warning: No shape table file present: shapetable\n",
            "Reading num3.font.exp0.tr ...\n",
            "Flat shape table summary: Number of shapes = 21 max unichars = 1 number with multiple unichars = 0\n",
            "Warning: no protos/configs for Joined in CreateIntTemplates()\n",
            "Warning: no protos/configs for |Broken|0|1 in CreateIntTemplates()\n",
            "Warning: no protos/configs for 8 in CreateIntTemplates()\n",
            "Warning: no protos/configs for b in CreateIntTemplates()\n",
            "Warning: no protos/configs for D in CreateIntTemplates()\n",
            "Warning: no protos/configs for G in CreateIntTemplates()\n",
            "Warning: no protos/configs for J in CreateIntTemplates()\n",
            "Warning: no protos/configs for N in CreateIntTemplates()\n",
            "Warning: no protos/configs for O in CreateIntTemplates()\n",
            "Warning: no protos/configs for T in CreateIntTemplates()\n",
            "Warning: no protos/configs for ~ in CreateIntTemplates()\n",
            "Warning: no protos/configs for i in CreateIntTemplates()\n",
            "Warning: no protos/configs for X in CreateIntTemplates()\n",
            "Warning: no protos/configs for Y in CreateIntTemplates()\n",
            "Done!\n"
          ]
        }
      ]
    },
    {
      "cell_type": "code",
      "source": [
        "!cntraining num3.font.exp0.tr"
      ],
      "metadata": {
        "colab": {
          "base_uri": "https://localhost:8080/"
        },
        "id": "0JSkiVHQhozr",
        "outputId": "09f96ad1-f693-409b-8e69-515456c86ce1"
      },
      "execution_count": 10,
      "outputs": [
        {
          "output_type": "stream",
          "name": "stdout",
          "text": [
            "Reading num3.font.exp0.tr ...\n",
            "Clustering ...\n",
            "\n",
            "Writing normproto ...\n"
          ]
        }
      ]
    },
    {
      "cell_type": "markdown",
      "source": [
        "手動修改檔名inttemp,normproto,pffmtable,shapetable\n",
        "前加上檔名"
      ],
      "metadata": {
        "id": "xTAk2RLbIXv_"
      }
    },
    {
      "cell_type": "markdown",
      "source": [
        "合併數據文件，生成字庫文件"
      ],
      "metadata": {
        "id": "hgJMG4dRJEv4"
      }
    },
    {
      "cell_type": "code",
      "source": [
        "!combine_tessdata num3."
      ],
      "metadata": {
        "colab": {
          "base_uri": "https://localhost:8080/"
        },
        "id": "o6YTtkp3iHeK",
        "outputId": "9bdaa0f6-e5b5-46c5-cb94-95ca7383b6de"
      },
      "execution_count": 11,
      "outputs": [
        {
          "output_type": "stream",
          "name": "stdout",
          "text": [
            "Combining tessdata files\n",
            "Output num3.traineddata created successfully.\n",
            "Version string:4.1.1\n",
            "1:unicharset:size=1990, offset=192\n",
            "3:inttemp:size=273838, offset=2182\n",
            "4:pffmtable:size=278, offset=276020\n",
            "5:normproto:size=2702, offset=276298\n",
            "13:shapetable:size=382, offset=279000\n",
            "23:version:size=5, offset=279382\n"
          ]
        }
      ]
    },
    {
      "cell_type": "code",
      "source": [
        "!tesseract --list-langs"
      ],
      "metadata": {
        "colab": {
          "base_uri": "https://localhost:8080/"
        },
        "id": "vIWu1qmpi41m",
        "outputId": "e232272a-fe23-48d7-80ab-d7b1ecf49e72"
      },
      "execution_count": 12,
      "outputs": [
        {
          "output_type": "stream",
          "name": "stdout",
          "text": [
            "List of available languages (2):\n",
            "eng\n",
            "osd\n"
          ]
        }
      ]
    },
    {
      "cell_type": "code",
      "source": [
        "# 创建一个目录用于存放训练数据\n",
        "!mkdir -p /content/tessdata/\n",
        "\n",
        "# 将自定义训练数据复制到指定目录\n",
        "!cp /content/num.traineddata /content/tessdata/"
      ],
      "metadata": {
        "id": "XaK8w4Bzl9qL"
      },
      "execution_count": null,
      "outputs": []
    },
    {
      "cell_type": "code",
      "source": [
        "#设置 TESSDATA_PREFIX 环境变量\n",
        "!export TESSDATA_PREFIX=\"/content/tessdata/\""
      ],
      "metadata": {
        "id": "aq5c9eHHmJ52"
      },
      "execution_count": null,
      "outputs": []
    },
    {
      "cell_type": "code",
      "source": [],
      "metadata": {
        "id": "Yco3jguowU8f"
      },
      "execution_count": null,
      "outputs": []
    }
  ]
}