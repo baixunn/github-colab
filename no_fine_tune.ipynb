{
  "nbformat": 4,
  "nbformat_minor": 0,
  "metadata": {
    "colab": {
      "provenance": [],
      "authorship_tag": "ABX9TyNvRiRVBkVt2BC4W9QWIPZO",
      "include_colab_link": true
    },
    "kernelspec": {
      "name": "python3",
      "display_name": "Python 3"
    },
    "language_info": {
      "name": "python"
    }
  },
  "cells": [
    {
      "cell_type": "markdown",
      "metadata": {
        "id": "view-in-github",
        "colab_type": "text"
      },
      "source": [
        "<a href=\"https://colab.research.google.com/github/wenchun0731/github-colab/blob/try/no_fine_tune.ipynb\" target=\"_parent\"><img src=\"https://colab.research.google.com/assets/colab-badge.svg\" alt=\"Open In Colab\"/></a>"
      ]
    },
    {
      "cell_type": "code",
      "execution_count": null,
      "metadata": {
        "colab": {
          "base_uri": "https://localhost:8080/"
        },
        "id": "TvYdMz1MLHiM",
        "outputId": "273fbe93-5c7d-4d4a-e264-927e7cc6094d"
      },
      "outputs": [
        {
          "output_type": "stream",
          "name": "stdout",
          "text": [
            "Reading package lists... Done\n",
            "Building dependency tree... Done\n",
            "Reading state information... Done\n",
            "tesseract-ocr is already the newest version (4.1.1-2.1build1).\n",
            "0 upgraded, 0 newly installed, 0 to remove and 45 not upgraded.\n",
            "Reading package lists... Done\n",
            "Building dependency tree... Done\n",
            "Reading state information... Done\n",
            "The following additional packages will be installed:\n",
            "  libarchive-dev libleptonica-dev\n",
            "The following NEW packages will be installed:\n",
            "  libarchive-dev libleptonica-dev libtesseract-dev\n",
            "0 upgraded, 3 newly installed, 0 to remove and 45 not upgraded.\n",
            "Need to get 3,743 kB of archives.\n",
            "After this operation, 16.0 MB of additional disk space will be used.\n",
            "Get:1 http://archive.ubuntu.com/ubuntu jammy/main amd64 libarchive-dev amd64 3.6.0-1ubuntu1 [581 kB]\n",
            "Get:2 http://archive.ubuntu.com/ubuntu jammy/universe amd64 libleptonica-dev amd64 1.82.0-3build1 [1,562 kB]\n",
            "Get:3 http://archive.ubuntu.com/ubuntu jammy/universe amd64 libtesseract-dev amd64 4.1.1-2.1build1 [1,600 kB]\n",
            "Fetched 3,743 kB in 0s (10.2 MB/s)\n",
            "Selecting previously unselected package libarchive-dev:amd64.\n",
            "(Reading database ... 121799 files and directories currently installed.)\n",
            "Preparing to unpack .../libarchive-dev_3.6.0-1ubuntu1_amd64.deb ...\n",
            "Unpacking libarchive-dev:amd64 (3.6.0-1ubuntu1) ...\n",
            "Selecting previously unselected package libleptonica-dev.\n",
            "Preparing to unpack .../libleptonica-dev_1.82.0-3build1_amd64.deb ...\n",
            "Unpacking libleptonica-dev (1.82.0-3build1) ...\n",
            "Selecting previously unselected package libtesseract-dev:amd64.\n",
            "Preparing to unpack .../libtesseract-dev_4.1.1-2.1build1_amd64.deb ...\n",
            "Unpacking libtesseract-dev:amd64 (4.1.1-2.1build1) ...\n",
            "Setting up libleptonica-dev (1.82.0-3build1) ...\n",
            "Setting up libarchive-dev:amd64 (3.6.0-1ubuntu1) ...\n",
            "Setting up libtesseract-dev:amd64 (4.1.1-2.1build1) ...\n",
            "Processing triggers for man-db (2.10.2-1) ...\n",
            "Collecting pytesseract\n",
            "  Downloading pytesseract-0.3.10-py3-none-any.whl (14 kB)\n",
            "Requirement already satisfied: packaging>=21.3 in /usr/local/lib/python3.10/dist-packages (from pytesseract) (24.0)\n",
            "Requirement already satisfied: Pillow>=8.0.0 in /usr/local/lib/python3.10/dist-packages (from pytesseract) (9.4.0)\n",
            "Installing collected packages: pytesseract\n",
            "Successfully installed pytesseract-0.3.10\n",
            "Requirement already satisfied: pillow in /usr/local/lib/python3.10/dist-packages (9.4.0)\n"
          ]
        }
      ],
      "source": [
        "!apt install tesseract-ocr\n",
        "!apt install libtesseract-dev\n",
        "!pip install pytesseract\n",
        "!pip install pillow\n",
        "import pytesseract"
      ]
    },
    {
      "cell_type": "code",
      "source": [
        "!apt-get install -y tesseract-ocr-eng"
      ],
      "metadata": {
        "colab": {
          "base_uri": "https://localhost:8080/"
        },
        "id": "G7NwL--TW-Oc",
        "outputId": "0574b3fa-a3ad-4db5-cdcc-74c21c5cc873"
      },
      "execution_count": null,
      "outputs": [
        {
          "output_type": "stream",
          "name": "stdout",
          "text": [
            "Reading package lists... Done\n",
            "Building dependency tree... Done\n",
            "Reading state information... Done\n",
            "tesseract-ocr-eng is already the newest version (1:4.00~git30-7274cfa-1.1).\n",
            "0 upgraded, 0 newly installed, 0 to remove and 45 not upgraded.\n"
          ]
        }
      ]
    },
    {
      "cell_type": "code",
      "source": [
        "!apt-get install -y tesseract-ocr-training"
      ],
      "metadata": {
        "colab": {
          "base_uri": "https://localhost:8080/"
        },
        "id": "87K5L6mUhTln",
        "outputId": "8dd0837a-ed8a-48aa-cec2-714e31403048"
      },
      "execution_count": null,
      "outputs": [
        {
          "output_type": "stream",
          "name": "stdout",
          "text": [
            "Reading package lists... Done\n",
            "Building dependency tree... Done\n",
            "Reading state information... Done\n",
            "E: Unable to locate package tesseract-ocr-training\n"
          ]
        }
      ]
    },
    {
      "cell_type": "code",
      "source": [
        "!tesseract num.font.exp0.tif num.font.exp0 [-l eng -psm 6] batch.nochop makebox"
      ],
      "metadata": {
        "colab": {
          "base_uri": "https://localhost:8080/"
        },
        "id": "yJNsTBOrLkKJ",
        "outputId": "522d6b68-f643-463e-ca2f-ad70d748a70c"
      },
      "execution_count": null,
      "outputs": [
        {
          "output_type": "stream",
          "name": "stdout",
          "text": [
            "read_params_file: Can't open [-l\n",
            "read_params_file: Can't open eng\n",
            "read_params_file: Can't open -psm\n",
            "read_params_file: Can't open 6]\n",
            "Tesseract Open Source OCR Engine v4.1.1 with Leptonica\n",
            "Page 1\n"
          ]
        }
      ]
    },
    {
      "cell_type": "code",
      "source": [
        "import cv2\n",
        "img=cv2.imread('/content/車牌.png')\n",
        "gray_img = cv2.cvtColor(img,cv2.COLOR_BGR2GRAY)\n",
        "thr, binary = cv2.threshold(gray_img,127, 256, cv2.THRESH_BINARY)"
      ],
      "metadata": {
        "id": "UJAB6r8qLnNy"
      },
      "execution_count": null,
      "outputs": []
    },
    {
      "cell_type": "code",
      "source": [
        "from google.colab.patches import cv2_imshow\n",
        "cv2_imshow(binary)"
      ],
      "metadata": {
        "colab": {
          "base_uri": "https://localhost:8080/",
          "height": 216
        },
        "id": "OYv-ga1aPN2X",
        "outputId": "511186c4-91f5-45a3-f2f5-1395e8c3cbd7"
      },
      "execution_count": null,
      "outputs": [
        {
          "output_type": "display_data",
          "data": {
            "text/plain": [
              "<PIL.Image.Image image mode=L size=1002x199>"
            ],
            "image/png": "[encoded data removed]"
          },
          "metadata": {}
        }
      ]
    },
    {
      "cell_type": "code",
      "source": [
        "cv2.imwrite('binary.tif',binary)"
      ],
      "metadata": {
        "colab": {
          "base_uri": "https://localhost:8080/"
        },
        "id": "kTRC31Q1Pg7e",
        "outputId": "951380b1-62ad-4742-d6cb-ec268f72a87d"
      },
      "execution_count": null,
      "outputs": [
        {
          "output_type": "execute_result",
          "data": {
            "text/plain": [
              "True"
            ]
          },
          "metadata": {},
          "execution_count": 20
        }
      ]
    },
    {
      "cell_type": "code",
      "source": [
        "text = pytesseract.image_to_string(binary)"
      ],
      "metadata": {
        "id": "GeUOeXigQ86Y"
      },
      "execution_count": null,
      "outputs": []
    },
    {
      "cell_type": "code",
      "source": [
        "print(text)"
      ],
      "metadata": {
        "colab": {
          "base_uri": "https://localhost:8080/"
        },
        "id": "LqP0woA8XNa5",
        "outputId": "d421fdb4-04ef-471f-8e8b-ea7a53a39750"
      },
      "execution_count": null,
      "outputs": [
        {
          "output_type": "stream",
          "name": "stdout",
          "text": [
            "\f\n"
          ]
        }
      ]
    },
    {
      "cell_type": "code",
      "source": [
        "\n",
        "text = pytesseract.image_to_string('/content/binary.tif')\n",
        "if len(text) ==1:\n",
        "  print('辨識失敗')\n",
        "else:\n",
        "  clean_text = text.strip()#去除兩端不可見字符\n",
        "  print('辨識結果:\\n{}'.format(clean_text))"
      ],
      "metadata": {
        "colab": {
          "base_uri": "https://localhost:8080/"
        },
        "id": "KJ6RpIdMXO0D",
        "outputId": "5e76aec3-527b-4fd2-c4ff-6fbc9d27e862"
      },
      "execution_count": null,
      "outputs": [
        {
          "output_type": "stream",
          "name": "stdout",
          "text": [
            "辨識失敗\n"
          ]
        }
      ]
    },
    {
      "cell_type": "code",
      "source": [
        "!echo \"num_1 0 0 0 0 0\" > font_properties"
      ],
      "metadata": {
        "id": "sREnVecLXb0m"
      },
      "execution_count": null,
      "outputs": []
    },
    {
      "cell_type": "code",
      "source": [
        "!tesseract num.font.exp0.tif num.font.exp0 [-l eng -psm 6] nobatch box.train"
      ],
      "metadata": {
        "colab": {
          "base_uri": "https://localhost:8080/"
        },
        "id": "zPUigoAzdxvl",
        "outputId": "cb36a65b-0b93-4d93-aef9-8ef9c2172c78"
      },
      "execution_count": null,
      "outputs": [
        {
          "output_type": "stream",
          "name": "stdout",
          "text": [
            "read_params_file: Can't open [-l\n",
            "read_params_file: Can't open eng\n",
            "read_params_file: Can't open -psm\n",
            "read_params_file: Can't open 6]\n",
            "Tesseract Open Source OCR Engine v4.1.1 with Leptonica\n",
            "Page 1\n",
            "FAIL!\n",
            "APPLY_BOXES: boxfile line 1/~ ((12,20),(708,217)): FAILURE! Couldn't find a matching blob\n",
            "APPLY_BOXES:\n",
            "   Boxes read from boxfile:       1\n",
            "   Boxes failed resegmentation:       1\n",
            "APPLY_BOXES: Unlabelled word at :Bounding box=(12,20)->(708,217)\n",
            "   Found 0 good blobs.\n",
            "   1 remaining unlabelled words deleted.\n",
            "Generated training data for 0 words\n"
          ]
        }
      ]
    },
    {
      "cell_type": "code",
      "source": [
        "!tesseract num.font.exp0.tif num.font.exp0 [-l eng -psm 6] nobatch box.train"
      ],
      "metadata": {
        "colab": {
          "base_uri": "https://localhost:8080/"
        },
        "id": "KVH0tyBXeWUz",
        "outputId": "3de51c82-2274-4def-e73a-83dc6b6c72e6"
      },
      "execution_count": null,
      "outputs": [
        {
          "output_type": "stream",
          "name": "stdout",
          "text": [
            "read_params_file: Can't open [-l\n",
            "read_params_file: Can't open eng\n",
            "read_params_file: Can't open -psm\n",
            "read_params_file: Can't open 6]\n",
            "Tesseract Open Source OCR Engine v4.1.1 with Leptonica\n",
            "Page 1\n",
            "FAIL!\n",
            "APPLY_BOXES: boxfile line 1/3 ((1,24),(121,221)): FAILURE! Couldn't find a matching blob\n",
            "FAIL!\n",
            "APPLY_BOXES: boxfile line 2/7 ((138,25),(249,222)): FAILURE! Couldn't find a matching blob\n",
            "FAIL!\n",
            "APPLY_BOXES: boxfile line 3/B ((286,20),(404,217)): FAILURE! Couldn't find a matching blob\n",
            "FAIL!\n",
            "APPLY_BOXES: boxfile line 4/J ((438,16),(545,213)): FAILURE! Couldn't find a matching blob\n",
            "FAIL!\n",
            "APPLY_BOXES: boxfile line 5/M ((601,14),(718,212)): FAILURE! Couldn't find a matching blob\n",
            "APPLY_BOXES:\n",
            "   Boxes read from boxfile:       5\n",
            "   Boxes failed resegmentation:       5\n",
            "APPLY_BOXES: Unlabelled word at :Bounding box=(12,20)->(708,217)\n",
            "   Found 0 good blobs.\n",
            "   1 remaining unlabelled words deleted.\n",
            "Generated training data for 0 words\n"
          ]
        }
      ]
    },
    {
      "cell_type": "code",
      "source": [
        "!tesseract num.font.exp0.tif num.font.exp0 -l eng --psm 6 nobatch box.train"
      ],
      "metadata": {
        "colab": {
          "base_uri": "https://localhost:8080/"
        },
        "id": "-vbEXRpPexQG",
        "outputId": "4569354d-9380-4ffb-c9e1-402b2df63eb1"
      },
      "execution_count": null,
      "outputs": [
        {
          "output_type": "stream",
          "name": "stdout",
          "text": [
            "Tesseract Open Source OCR Engine v4.1.1 with Leptonica\n",
            "Page 1\n",
            "APPLY_BOXES:\n",
            "   Boxes read from boxfile:       5\n",
            "   Found 5 good blobs.\n",
            "Generated training data for 1 words\n"
          ]
        }
      ]
    },
    {
      "cell_type": "code",
      "source": [
        "!unicharset_extractor num.font.exp0.box"
      ],
      "metadata": {
        "colab": {
          "base_uri": "https://localhost:8080/"
        },
        "id": "oVGz9QytgJAk",
        "outputId": "bdbcd894-9ec6-4002-c4b0-f1083572733a"
      },
      "execution_count": null,
      "outputs": [
        {
          "output_type": "stream",
          "name": "stdout",
          "text": [
            "Extracting unicharset from box file num.font.exp0.box\n",
            "Other case b of B is not in unicharset\n",
            "Other case j of J is not in unicharset\n",
            "Other case m of M is not in unicharset\n",
            "Wrote unicharset file unicharset\n"
          ]
        }
      ]
    },
    {
      "cell_type": "code",
      "source": [
        "!mftraining -F font_properties -U unicharset -O num.unicharset num.font.exp0.tr"
      ],
      "metadata": {
        "colab": {
          "base_uri": "https://localhost:8080/"
        },
        "id": "X6XJZIiegpx1",
        "outputId": "bf7f3d0a-cf3d-4f92-e747-d1f170a71a1f"
      },
      "execution_count": null,
      "outputs": [
        {
          "output_type": "stream",
          "name": "stdout",
          "text": [
            "Warning: No shape table file present: shapetable\n",
            "Reading num.font.exp0.tr ...\n",
            "Flat shape table summary: Number of shapes = 5 max unichars = 1 number with multiple unichars = 0\n",
            "Warning: no protos/configs for Joined in CreateIntTemplates()\n",
            "Warning: no protos/configs for |Broken|0|1 in CreateIntTemplates()\n",
            "Done!\n"
          ]
        }
      ]
    },
    {
      "cell_type": "code",
      "source": [
        "!cntraining num.font.exp0.tr"
      ],
      "metadata": {
        "colab": {
          "base_uri": "https://localhost:8080/"
        },
        "id": "0JSkiVHQhozr",
        "outputId": "c23bc4e7-a731-4d75-b0b8-f33b0dafbc6e"
      },
      "execution_count": null,
      "outputs": [
        {
          "output_type": "stream",
          "name": "stdout",
          "text": [
            "Reading num.font.exp0.tr ...\n",
            "Clustering ...\n",
            "\n",
            "Writing normproto ...\n"
          ]
        }
      ]
    },
    {
      "cell_type": "code",
      "source": [
        "!combine_tessdata num."
      ],
      "metadata": {
        "colab": {
          "base_uri": "https://localhost:8080/"
        },
        "id": "o6YTtkp3iHeK",
        "outputId": "7811ca29-8f6b-4f1e-bf27-f7a5487171eb"
      },
      "execution_count": null,
      "outputs": [
        {
          "output_type": "stream",
          "name": "stdout",
          "text": [
            "Combining tessdata files\n",
            "Output num.traineddata created successfully.\n",
            "Version string:4.1.1\n",
            "1:unicharset:size=442, offset=192\n",
            "3:inttemp:size=122607, offset=634\n",
            "4:pffmtable:size=75, offset=123241\n",
            "5:normproto:size=782, offset=123316\n",
            "13:shapetable:size=94, offset=124098\n",
            "23:version:size=5, offset=124192\n"
          ]
        }
      ]
    },
    {
      "cell_type": "code",
      "source": [
        "!tesseract --list-langs"
      ],
      "metadata": {
        "colab": {
          "base_uri": "https://localhost:8080/"
        },
        "id": "vIWu1qmpi41m",
        "outputId": "e0fdbbfb-77bd-41aa-9e0f-955032d81b99"
      },
      "execution_count": null,
      "outputs": [
        {
          "output_type": "stream",
          "name": "stdout",
          "text": [
            "List of available languages (2):\n",
            "eng\n",
            "osd\n"
          ]
        }
      ]
    },
    {
      "cell_type": "code",
      "source": [
        "# 创建一个目录用于存放训练数据\n",
        "!mkdir -p /content/tessdata/\n",
        "\n",
        "# 将自定义训练数据复制到指定目录\n",
        "!cp /content/num.traineddata /content/tessdata/"
      ],
      "metadata": {
        "id": "XaK8w4Bzl9qL"
      },
      "execution_count": null,
      "outputs": []
    },
    {
      "cell_type": "code",
      "source": [
        "#设置 TESSDATA_PREFIX 环境变量\n",
        "!export TESSDATA_PREFIX=\"/content/tessdata/\""
      ],
      "metadata": {
        "id": "aq5c9eHHmJ52"
      },
      "execution_count": null,
      "outputs": []
    },
    {
      "cell_type": "code",
      "source": [
        "!tesseract num.font.exp0.tif num.font.exp0 -l eng --psm 6 lstm.train"
      ],
      "metadata": {
        "colab": {
          "base_uri": "https://localhost:8080/"
        },
        "id": "xhBPh9YRmSO5",
        "outputId": "bfa7641b-2837-472f-c7c7-7df8c2ae20c6"
      },
      "execution_count": null,
      "outputs": [
        {
          "output_type": "stream",
          "name": "stdout",
          "text": [
            "read_params_file: Can't open lstm.train\n",
            "Tesseract Open Source OCR Engine v4.1.1 with Leptonica\n",
            "Page 1\n"
          ]
        }
      ]
    },
    {
      "cell_type": "code",
      "source": [
        "!combine_tessdata -e '/content/tessdata/eng.traineddata' eng.lstm"
      ],
      "metadata": {
        "colab": {
          "base_uri": "https://localhost:8080/"
        },
        "id": "3MkXIeK5rmJx",
        "outputId": "50801e92-a9bd-4fbb-9c05-9dda97f0f1f5"
      },
      "execution_count": null,
      "outputs": [
        {
          "output_type": "stream",
          "name": "stdout",
          "text": [
            "Extracting tessdata components from /content/tessdata/eng.traineddata\n",
            "Wrote eng.lstm\n",
            "Version string:Pre-4.0.0\n",
            "1:unicharset:size=7477, offset=192\n",
            "2:unicharambigs:size=1047, offset=7669\n",
            "3:inttemp:size=976552, offset=8716\n",
            "4:pffmtable:size=844, offset=985268\n",
            "5:normproto:size=13408, offset=986112\n",
            "6:punc-dawg:size=4322, offset=999520\n",
            "7:word-dawg:size=1082890, offset=1003842\n",
            "8:number-dawg:size=6426, offset=2086732\n",
            "9:freq-dawg:size=1410, offset=2093158\n",
            "11:cube-unicharset:size=1511, offset=2094568\n",
            "12:cube-word-dawg:size=1062106, offset=2096079\n",
            "13:shapetable:size=63346, offset=3158185\n",
            "14:bigram-dawg:size=16109842, offset=3221531\n",
            "17:lstm:size=5390718, offset=19331373\n",
            "18:lstm-punc-dawg:size=4322, offset=24722091\n",
            "19:lstm-word-dawg:size=7143578, offset=24726413\n",
            "20:lstm-number-dawg:size=3530, offset=31869991\n",
            "23:version:size=9, offset=31873521\n"
          ]
        }
      ]
    },
    {
      "cell_type": "code",
      "source": [
        "!tesseract --versio"
      ],
      "metadata": {
        "colab": {
          "base_uri": "https://localhost:8080/"
        },
        "id": "kl5s3YuCsX7O",
        "outputId": "a2a27283-e55d-466f-c2cb-3d09542348ff"
      },
      "execution_count": null,
      "outputs": [
        {
          "output_type": "stream",
          "name": "stdout",
          "text": [
            "Usage:\n",
            "  tesseract --help | --help-extra | --version\n",
            "  tesseract --list-langs\n",
            "  tesseract imagename outputbase [options...] [configfile...]\n",
            "\n",
            "OCR options:\n",
            "  -l LANG[+LANG]        Specify language(s) used for OCR.\n",
            "NOTE: These options must occur before any configfile.\n",
            "\n",
            "Single options:\n",
            "  --help                Show this help message.\n",
            "  --help-extra          Show extra help for advanced users.\n",
            "  --version             Show version information.\n",
            "  --list-langs          List available languages for tesseract engine.\n"
          ]
        }
      ]
    },
    {
      "cell_type": "code",
      "source": [
        "!apt-get upgrade -y tesseract-ocr"
      ],
      "metadata": {
        "colab": {
          "base_uri": "https://localhost:8080/"
        },
        "id": "psxYGtTSugNw",
        "outputId": "b8158f0e-ecec-4b99-c6b1-ac270378fec0"
      },
      "execution_count": null,
      "outputs": [
        {
          "output_type": "stream",
          "name": "stdout",
          "text": [
            "Reading package lists... Done\n",
            "Building dependency tree... Done\n",
            "Reading state information... Done\n",
            "tesseract-ocr is already the newest version (4.1.1-2.1build1).\n",
            "Calculating upgrade... Done\n",
            "The following packages have been kept back:\n",
            "  libcudnn8 libcudnn8-dev libnccl-dev libnccl2\n",
            "The following packages will be upgraded:\n",
            "  base-files bash binutils binutils-common binutils-x86-64-linux-gnu bsdutils coreutils\n",
            "  cuda-compat-12-2 cuda-keyring cuda-toolkit-12-config-common cuda-toolkit-config-common dpkg\n",
            "  dpkg-dev libbinutils libblkid1 libc-bin libctf-nobfd0 libctf0 libdpkg-perl libgnutls30\n",
            "  libldap-2.5-0 libmount1 libpam-modules libpam-modules-bin libpam-runtime libpam0g libperl5.34\n",
            "  libprocps8 libsmartcols1 libudev1 linux-libc-dev login mount openssl passwd perl perl-base\n",
            "  perl-modules-5.34 procps tar util-linux\n",
            "41 upgraded, 0 newly installed, 0 to remove and 4 not upgraded.\n",
            "Need to get 59.6 MB of archives.\n",
            "After this operation, 85.0 kB of additional disk space will be used.\n",
            "Get:1 http://archive.ubuntu.com/ubuntu jammy-updates/main amd64 base-files amd64 12ubuntu4.6 [62.5 kB]\n",
            "Get:2 http://archive.ubuntu.com/ubuntu jammy-updates/main amd64 bash amd64 5.1-6ubuntu1.1 [769 kB]\n",
            "Get:3 https://developer.download.nvidia.com/compute/cuda/repos/ubuntu2204/x86_64  cuda-compat-12-2 535.161.08-1 [33.6 MB]\n",
            "Get:4 http://archive.ubuntu.com/ubuntu jammy-updates/main amd64 bsdutils amd64 1:2.37.2-4ubuntu3.4 [80.9 kB]\n",
            "Get:5 http://archive.ubuntu.com/ubuntu jammy-updates/main amd64 coreutils amd64 8.32-4.1ubuntu1.2 [1,437 kB]\n",
            "Get:6 http://archive.ubuntu.com/ubuntu jammy-updates/main amd64 tar amd64 1.34+dfsg-1ubuntu0.1.22.04.2 [295 kB]\n",
            "Get:7 http://archive.ubuntu.com/ubuntu jammy-updates/main amd64 dpkg amd64 1.21.1ubuntu2.3 [1,239 kB]\n",
            "Get:8 http://archive.ubuntu.com/ubuntu jammy-updates/main amd64 login amd64 1:4.8.1-2ubuntu2.2 [188 kB]\n",
            "Get:9 http://archive.ubuntu.com/ubuntu jammy-updates/main amd64 libperl5.34 amd64 5.34.0-3ubuntu1.3 [4,820 kB]\n",
            "Get:10 http://archive.ubuntu.com/ubuntu jammy-updates/main amd64 perl amd64 5.34.0-3ubuntu1.3 [232 kB]\n",
            "Get:11 http://archive.ubuntu.com/ubuntu jammy-updates/main amd64 perl-base amd64 5.34.0-3ubuntu1.3 [1,762 kB]\n",
            "Get:12 http://archive.ubuntu.com/ubuntu jammy-updates/main amd64 perl-modules-5.34 all 5.34.0-3ubuntu1.3 [2,976 kB]\n",
            "Get:13 http://archive.ubuntu.com/ubuntu jammy-updates/main amd64 util-linux amd64 2.37.2-4ubuntu3.4 [1,063 kB]\n",
            "Get:14 http://archive.ubuntu.com/ubuntu jammy-updates/main amd64 libc-bin amd64 2.35-0ubuntu3.7 [706 kB]\n",
            "Get:15 http://archive.ubuntu.com/ubuntu jammy-updates/main amd64 libpam0g amd64 1.4.0-11ubuntu2.4 [60.2 kB]\n",
            "Get:16 http://archive.ubuntu.com/ubuntu jammy-updates/main amd64 libpam-modules-bin amd64 1.4.0-11ubuntu2.4 [37.6 kB]\n",
            "Get:17 http://archive.ubuntu.com/ubuntu jammy-updates/main amd64 libpam-modules amd64 1.4.0-11ubuntu2.4 [280 kB]\n",
            "Get:18 http://archive.ubuntu.com/ubuntu jammy-updates/main amd64 mount amd64 2.37.2-4ubuntu3.4 [114 kB]\n",
            "Get:19 http://archive.ubuntu.com/ubuntu jammy-updates/main amd64 libblkid1 amd64 2.37.2-4ubuntu3.4 [103 kB]\n",
            "Get:20 http://archive.ubuntu.com/ubuntu jammy-updates/main amd64 libmount1 amd64 2.37.2-4ubuntu3.4 [122 kB]\n",
            "Get:21 http://archive.ubuntu.com/ubuntu jammy-updates/main amd64 libpam-runtime all 1.4.0-11ubuntu2.4 [40.3 kB]\n",
            "Get:22 http://archive.ubuntu.com/ubuntu jammy-updates/main amd64 libsmartcols1 amd64 2.37.2-4ubuntu3.4 [50.9 kB]\n",
            "Get:23 http://archive.ubuntu.com/ubuntu jammy-updates/main amd64 libudev1 amd64 249.11-0ubuntu3.12 [78.2 kB]\n",
            "Get:24 http://archive.ubuntu.com/ubuntu jammy-updates/main amd64 passwd amd64 1:4.8.1-2ubuntu2.2 [768 kB]\n",
            "Get:25 http://archive.ubuntu.com/ubuntu jammy-updates/main amd64 libgnutls30 amd64 3.7.3-4ubuntu1.5 [966 kB]\n",
            "Get:26 http://archive.ubuntu.com/ubuntu jammy-updates/main amd64 libprocps8 amd64 2:3.3.17-6ubuntu2.1 [36.2 kB]\n",
            "Get:27 http://archive.ubuntu.com/ubuntu jammy-updates/main amd64 procps amd64 2:3.3.17-6ubuntu2.1 [378 kB]\n",
            "Get:28 http://archive.ubuntu.com/ubuntu jammy-updates/main amd64 openssl amd64 3.0.2-0ubuntu1.15 [1,186 kB]\n",
            "Get:29 http://archive.ubuntu.com/ubuntu jammy-updates/main amd64 libctf0 amd64 2.38-4ubuntu2.6 [103 kB]\n",
            "Get:30 http://archive.ubuntu.com/ubuntu jammy-updates/main amd64 libctf-nobfd0 amd64 2.38-4ubuntu2.6 [108 kB]\n",
            "Get:31 http://archive.ubuntu.com/ubuntu jammy-updates/main amd64 binutils-x86-64-linux-gnu amd64 2.38-4ubuntu2.6 [2,326 kB]\n",
            "Get:32 http://archive.ubuntu.com/ubuntu jammy-updates/main amd64 libbinutils amd64 2.38-4ubuntu2.6 [662 kB]\n",
            "Get:33 http://archive.ubuntu.com/ubuntu jammy-updates/main amd64 binutils amd64 2.38-4ubuntu2.6 [3,200 B]\n",
            "Get:34 http://archive.ubuntu.com/ubuntu jammy-updates/main amd64 binutils-common amd64 2.38-4ubuntu2.6 [222 kB]\n",
            "Get:35 http://archive.ubuntu.com/ubuntu jammy-updates/main amd64 dpkg-dev all 1.21.1ubuntu2.3 [922 kB]\n",
            "Get:36 http://archive.ubuntu.com/ubuntu jammy-updates/main amd64 libdpkg-perl all 1.21.1ubuntu2.3 [237 kB]\n",
            "Get:37 http://archive.ubuntu.com/ubuntu jammy-updates/main amd64 libldap-2.5-0 amd64 2.5.17+dfsg-0ubuntu0.22.04.1 [183 kB]\n",
            "Get:38 http://archive.ubuntu.com/ubuntu jammy-updates/main amd64 linux-libc-dev amd64 5.15.0-105.115 [1,330 kB]\n",
            "Get:39 https://developer.download.nvidia.com/compute/cuda/repos/ubuntu2204/x86_64  cuda-keyring 1.1-1 [4,332 B]\n",
            "Get:40 https://developer.download.nvidia.com/compute/cuda/repos/ubuntu2204/x86_64  cuda-toolkit-12-config-common 12.4.127-1 [16.5 kB]\n",
            "Get:41 https://developer.download.nvidia.com/compute/cuda/repos/ubuntu2204/x86_64  cuda-toolkit-config-common 12.4.127-1 [16.5 kB]\n",
            "Fetched 59.6 MB in 1s (69.9 MB/s)\n",
            "Extracting templates from packages: 100%\n",
            "Preconfiguring packages ...\n",
            "(Reading database ... 121932 files and directories currently installed.)\n",
            "Preparing to unpack .../base-files_12ubuntu4.6_amd64.deb ...\n",
            "Unpacking base-files (12ubuntu4.6) over (12ubuntu4.4) ...\n",
            "Setting up base-files (12ubuntu4.6) ...\n",
            "Installing new version of config file /etc/issue ...\n",
            "Installing new version of config file /etc/issue.net ...\n",
            "Installing new version of config file /etc/lsb-release ...\n",
            "Installing new version of config file /etc/update-motd.d/10-help-text ...\n",
            "(Reading database ... 121932 files and directories currently installed.)\n",
            "Preparing to unpack .../bash_5.1-6ubuntu1.1_amd64.deb ...\n",
            "Unpacking bash (5.1-6ubuntu1.1) over (5.1-6ubuntu1) ...\n",
            "Setting up bash (5.1-6ubuntu1.1) ...\n",
            "update-alternatives: using /usr/share/man/man7/bash-builtins.7.gz to provide /usr/share/man/man7/builtins.7.gz (builtins.7.gz) in auto mode\n",
            "(Reading database ... 121932 files and directories currently installed.)\n",
            "Preparing to unpack .../bsdutils_1%3a2.37.2-4ubuntu3.4_amd64.deb ...\n",
            "Unpacking bsdutils (1:2.37.2-4ubuntu3.4) over (1:2.37.2-4ubuntu3) ...\n",
            "Setting up bsdutils (1:2.37.2-4ubuntu3.4) ...\n",
            "(Reading database ... 121932 files and directories currently installed.)\n",
            "Preparing to unpack .../coreutils_8.32-4.1ubuntu1.2_amd64.deb ...\n",
            "Unpacking coreutils (8.32-4.1ubuntu1.2) over (8.32-4.1ubuntu1) ...\n",
            "Setting up coreutils (8.32-4.1ubuntu1.2) ...\n",
            "(Reading database ... 121932 files and directories currently installed.)\n",
            "Preparing to unpack .../tar_1.34+dfsg-1ubuntu0.1.22.04.2_amd64.deb ...\n",
            "Unpacking tar (1.34+dfsg-1ubuntu0.1.22.04.2) over (1.34+dfsg-1ubuntu0.1.22.04.1) ...\n",
            "Setting up tar (1.34+dfsg-1ubuntu0.1.22.04.2) ...\n",
            "update-alternatives: warning: forcing reinstallation of alternative /usr/sbin/rmt-tar because link group rmt is broken\n",
            "(Reading database ... 121932 files and directories currently installed.)\n",
            "Preparing to unpack .../dpkg_1.21.1ubuntu2.3_amd64.deb ...\n",
            "Unpacking dpkg (1.21.1ubuntu2.3) over (1.21.1ubuntu2.2) ...\n",
            "Setting up dpkg (1.21.1ubuntu2.3) ...\n",
            "(Reading database ... 121932 files and directories currently installed.)\n",
            "Preparing to unpack .../login_1%3a4.8.1-2ubuntu2.2_amd64.deb ...\n",
            "Unpacking login (1:4.8.1-2ubuntu2.2) over (1:4.8.1-2ubuntu2.1) ...\n",
            "Setting up login (1:4.8.1-2ubuntu2.2) ...\n",
            "(Reading database ... 121932 files and directories currently installed.)\n",
            "Preparing to unpack .../libperl5.34_5.34.0-3ubuntu1.3_amd64.deb ...\n",
            "Unpacking libperl5.34:amd64 (5.34.0-3ubuntu1.3) over (5.34.0-3ubuntu1.2) ...\n",
            "Preparing to unpack .../perl_5.34.0-3ubuntu1.3_amd64.deb ...\n",
            "Unpacking perl (5.34.0-3ubuntu1.3) over (5.34.0-3ubuntu1.2) ...\n",
            "Preparing to unpack .../perl-base_5.34.0-3ubuntu1.3_amd64.deb ...\n",
            "Unpacking perl-base (5.34.0-3ubuntu1.3) over (5.34.0-3ubuntu1.2) ...\n",
            "Setting up perl-base (5.34.0-3ubuntu1.3) ...\n",
            "(Reading database ... 121932 files and directories currently installed.)\n",
            "Preparing to unpack .../perl-modules-5.34_5.34.0-3ubuntu1.3_all.deb ...\n",
            "Unpacking perl-modules-5.34 (5.34.0-3ubuntu1.3) over (5.34.0-3ubuntu1.2) ...\n",
            "Preparing to unpack .../util-linux_2.37.2-4ubuntu3.4_amd64.deb ...\n",
            "Unpacking util-linux (2.37.2-4ubuntu3.4) over (2.37.2-4ubuntu3) ...\n",
            "Setting up util-linux (2.37.2-4ubuntu3.4) ...\n",
            "(Reading database ... 121932 files and directories currently installed.)\n",
            "Preparing to unpack .../libc-bin_2.35-0ubuntu3.7_amd64.deb ...\n",
            "Unpacking libc-bin (2.35-0ubuntu3.7) over (2.35-0ubuntu3.4) ...\n",
            "Setting up libc-bin (2.35-0ubuntu3.7) ...\n",
            "/sbin/ldconfig.real: /usr/local/lib/libtbbmalloc.so.2 is not a symbolic link\n",
            "\n",
            "/sbin/ldconfig.real: /usr/local/lib/libtbbbind_2_0.so.3 is not a symbolic link\n",
            "\n",
            "/sbin/ldconfig.real: /usr/local/lib/libtbbbind.so.3 is not a symbolic link\n",
            "\n",
            "/sbin/ldconfig.real: /usr/local/lib/libtbb.so.12 is not a symbolic link\n",
            "\n",
            "/sbin/ldconfig.real: /usr/local/lib/libtbbbind_2_5.so.3 is not a symbolic link\n",
            "\n",
            "/sbin/ldconfig.real: /usr/local/lib/libtbbmalloc_proxy.so.2 is not a symbolic link\n",
            "\n",
            "(Reading database ... 121932 files and directories currently installed.)\n",
            "Preparing to unpack .../libpam0g_1.4.0-11ubuntu2.4_amd64.deb ...\n",
            "Unpacking libpam0g:amd64 (1.4.0-11ubuntu2.4) over (1.4.0-11ubuntu2.3) ...\n",
            "Setting up libpam0g:amd64 (1.4.0-11ubuntu2.4) ...\n",
            "(Reading database ... 121932 files and directories currently installed.)\n",
            "Preparing to unpack .../libpam-modules-bin_1.4.0-11ubuntu2.4_amd64.deb ...\n",
            "Unpacking libpam-modules-bin (1.4.0-11ubuntu2.4) over (1.4.0-11ubuntu2.3) ...\n",
            "Setting up libpam-modules-bin (1.4.0-11ubuntu2.4) ...\n",
            "(Reading database ... 121932 files and directories currently installed.)\n",
            "Preparing to unpack .../libpam-modules_1.4.0-11ubuntu2.4_amd64.deb ...\n",
            "Unpacking libpam-modules:amd64 (1.4.0-11ubuntu2.4) over (1.4.0-11ubuntu2.3) ...\n",
            "Setting up libpam-modules:amd64 (1.4.0-11ubuntu2.4) ...\n",
            "(Reading database ... 121932 files and directories currently installed.)\n",
            "Preparing to unpack .../mount_2.37.2-4ubuntu3.4_amd64.deb ...\n",
            "Unpacking mount (2.37.2-4ubuntu3.4) over (2.37.2-4ubuntu3) ...\n",
            "Preparing to unpack .../libblkid1_2.37.2-4ubuntu3.4_amd64.deb ...\n",
            "Unpacking libblkid1:amd64 (2.37.2-4ubuntu3.4) over (2.37.2-4ubuntu3) ...\n",
            "Setting up libblkid1:amd64 (2.37.2-4ubuntu3.4) ...\n",
            "(Reading database ... 121932 files and directories currently installed.)\n",
            "Preparing to unpack .../libmount1_2.37.2-4ubuntu3.4_amd64.deb ...\n",
            "Unpacking libmount1:amd64 (2.37.2-4ubuntu3.4) over (2.37.2-4ubuntu3) ...\n",
            "Setting up libmount1:amd64 (2.37.2-4ubuntu3.4) ...\n",
            "(Reading database ... 121932 files and directories currently installed.)\n",
            "Preparing to unpack .../libpam-runtime_1.4.0-11ubuntu2.4_all.deb ...\n",
            "Unpacking libpam-runtime (1.4.0-11ubuntu2.4) over (1.4.0-11ubuntu2.3) ...\n",
            "Setting up libpam-runtime (1.4.0-11ubuntu2.4) ...\n",
            "(Reading database ... 121932 files and directories currently installed.)\n",
            "Preparing to unpack .../libsmartcols1_2.37.2-4ubuntu3.4_amd64.deb ...\n",
            "Unpacking libsmartcols1:amd64 (2.37.2-4ubuntu3.4) over (2.37.2-4ubuntu3) ...\n",
            "Setting up libsmartcols1:amd64 (2.37.2-4ubuntu3.4) ...\n",
            "(Reading database ... 121932 files and directories currently installed.)\n",
            "Preparing to unpack .../libudev1_249.11-0ubuntu3.12_amd64.deb ...\n",
            "Unpacking libudev1:amd64 (249.11-0ubuntu3.12) over (249.11-0ubuntu3.10) ...\n",
            "Setting up libudev1:amd64 (249.11-0ubuntu3.12) ...\n",
            "(Reading database ... 121932 files and directories currently installed.)\n",
            "Preparing to unpack .../passwd_1%3a4.8.1-2ubuntu2.2_amd64.deb ...\n",
            "Unpacking passwd (1:4.8.1-2ubuntu2.2) over (1:4.8.1-2ubuntu2.1) ...\n",
            "Setting up passwd (1:4.8.1-2ubuntu2.2) ...\n",
            "(Reading database ... 121932 files and directories currently installed.)\n",
            "Preparing to unpack .../libgnutls30_3.7.3-4ubuntu1.5_amd64.deb ...\n",
            "Unpacking libgnutls30:amd64 (3.7.3-4ubuntu1.5) over (3.7.3-4ubuntu1.2) ...\n",
            "Setting up libgnutls30:amd64 (3.7.3-4ubuntu1.5) ...\n",
            "(Reading database ... 121932 files and directories currently installed.)\n",
            "Preparing to unpack .../00-libprocps8_2%3a3.3.17-6ubuntu2.1_amd64.deb ...\n",
            "Unpacking libprocps8:amd64 (2:3.3.17-6ubuntu2.1) over (2:3.3.17-6ubuntu2) ...\n",
            "Preparing to unpack .../01-procps_2%3a3.3.17-6ubuntu2.1_amd64.deb ...\n",
            "Unpacking procps (2:3.3.17-6ubuntu2.1) over (2:3.3.17-6ubuntu2) ...\n",
            "Preparing to unpack .../02-openssl_3.0.2-0ubuntu1.15_amd64.deb ...\n",
            "Unpacking openssl (3.0.2-0ubuntu1.15) over (3.0.2-0ubuntu1.12) ...\n",
            "Preparing to unpack .../03-libctf0_2.38-4ubuntu2.6_amd64.deb ...\n",
            "Unpacking libctf0:amd64 (2.38-4ubuntu2.6) over (2.38-4ubuntu2.3) ...\n",
            "Preparing to unpack .../04-libctf-nobfd0_2.38-4ubuntu2.6_amd64.deb ...\n",
            "Unpacking libctf-nobfd0:amd64 (2.38-4ubuntu2.6) over (2.38-4ubuntu2.3) ...\n",
            "Preparing to unpack .../05-binutils-x86-64-linux-gnu_2.38-4ubuntu2.6_amd64.deb ...\n",
            "Unpacking binutils-x86-64-linux-gnu (2.38-4ubuntu2.6) over (2.38-4ubuntu2.3) ...\n",
            "Preparing to unpack .../06-libbinutils_2.38-4ubuntu2.6_amd64.deb ...\n",
            "Unpacking libbinutils:amd64 (2.38-4ubuntu2.6) over (2.38-4ubuntu2.3) ...\n",
            "Preparing to unpack .../07-binutils_2.38-4ubuntu2.6_amd64.deb ...\n",
            "Unpacking binutils (2.38-4ubuntu2.6) over (2.38-4ubuntu2.3) ...\n",
            "Preparing to unpack .../08-binutils-common_2.38-4ubuntu2.6_amd64.deb ...\n",
            "Unpacking binutils-common:amd64 (2.38-4ubuntu2.6) over (2.38-4ubuntu2.3) ...\n",
            "Preparing to unpack .../09-cuda-compat-12-2_535.161.08-1_amd64.deb ...\n",
            "Unpacking cuda-compat-12-2 (535.161.08-1) over (535.129.03-1) ...\n",
            "Preparing to unpack .../10-cuda-keyring_1.1-1_all.deb ...\n",
            "Unpacking cuda-keyring (1.1-1) over (1.0-1) ...\n",
            "Preparing to unpack .../11-cuda-toolkit-12-config-common_12.4.127-1_all.deb ...\n",
            "Unpacking cuda-toolkit-12-config-common (12.4.127-1) over (12.3.52-1) ...\n",
            "Preparing to unpack .../12-cuda-toolkit-config-common_12.4.127-1_all.deb ...\n",
            "Unpacking cuda-toolkit-config-common (12.4.127-1) over (12.3.52-1) ...\n",
            "Preparing to unpack .../13-dpkg-dev_1.21.1ubuntu2.3_all.deb ...\n",
            "Unpacking dpkg-dev (1.21.1ubuntu2.3) over (1.21.1ubuntu2.2) ...\n",
            "Preparing to unpack .../14-libdpkg-perl_1.21.1ubuntu2.3_all.deb ...\n",
            "Unpacking libdpkg-perl (1.21.1ubuntu2.3) over (1.21.1ubuntu2.2) ...\n",
            "Preparing to unpack .../15-libldap-2.5-0_2.5.17+dfsg-0ubuntu0.22.04.1_amd64.deb ...\n",
            "Unpacking libldap-2.5-0:amd64 (2.5.17+dfsg-0ubuntu0.22.04.1) over (2.5.16+dfsg-0ubuntu0.22.04.1) ...\n",
            "Preparing to unpack .../16-linux-libc-dev_5.15.0-105.115_amd64.deb ...\n",
            "Unpacking linux-libc-dev:amd64 (5.15.0-105.115) over (5.15.0-88.98) ...\n",
            "Setting up cuda-toolkit-config-common (12.4.127-1) ...\n",
            "Setting up cuda-compat-12-2 (535.161.08-1) ...\n",
            "Setting up binutils-common:amd64 (2.38-4ubuntu2.6) ...\n",
            "Setting up linux-libc-dev:amd64 (5.15.0-105.115) ...\n",
            "Setting up libctf-nobfd0:amd64 (2.38-4ubuntu2.6) ...\n",
            "Setting up perl-modules-5.34 (5.34.0-3ubuntu1.3) ...\n",
            "Setting up libldap-2.5-0:amd64 (2.5.17+dfsg-0ubuntu0.22.04.1) ...\n",
            "Setting up cuda-keyring (1.1-1) ...\n",
            "Setting up mount (2.37.2-4ubuntu3.4) ...\n",
            "Setting up libbinutils:amd64 (2.38-4ubuntu2.6) ...\n",
            "Setting up openssl (3.0.2-0ubuntu1.15) ...\n",
            "Setting up cuda-toolkit-12-config-common (12.4.127-1) ...\n",
            "Setting up libprocps8:amd64 (2:3.3.17-6ubuntu2.1) ...\n",
            "Setting up libctf0:amd64 (2.38-4ubuntu2.6) ...\n",
            "Setting up libperl5.34:amd64 (5.34.0-3ubuntu1.3) ...\n",
            "Setting up perl (5.34.0-3ubuntu1.3) ...\n",
            "Setting up libdpkg-perl (1.21.1ubuntu2.3) ...\n",
            "Setting up procps (2:3.3.17-6ubuntu2.1) ...\n",
            "Setting up binutils-x86-64-linux-gnu (2.38-4ubuntu2.6) ...\n",
            "Setting up binutils (2.38-4ubuntu2.6) ...\n",
            "Setting up dpkg-dev (1.21.1ubuntu2.3) ...\n",
            "Processing triggers for man-db (2.10.2-1) ...\n",
            "Processing triggers for libc-bin (2.35-0ubuntu3.7) ...\n",
            "/sbin/ldconfig.real: /usr/local/lib/libtbbmalloc.so.2 is not a symbolic link\n",
            "\n",
            "/sbin/ldconfig.real: /usr/local/lib/libtbbbind_2_0.so.3 is not a symbolic link\n",
            "\n",
            "/sbin/ldconfig.real: /usr/local/lib/libtbbbind.so.3 is not a symbolic link\n",
            "\n",
            "/sbin/ldconfig.real: /usr/local/lib/libtbb.so.12 is not a symbolic link\n",
            "\n",
            "/sbin/ldconfig.real: /usr/local/lib/libtbbbind_2_5.so.3 is not a symbolic link\n",
            "\n",
            "/sbin/ldconfig.real: /usr/local/lib/libtbbmalloc_proxy.so.2 is not a symbolic link\n",
            "\n"
          ]
        }
      ]
    },
    {
      "cell_type": "code",
      "source": [
        "!ls /usr/share/tesseract-ocr/4.00/tessdata/  # 检查语言数据"
      ],
      "metadata": {
        "colab": {
          "base_uri": "https://localhost:8080/"
        },
        "id": "2Dwhj1sKul4O",
        "outputId": "db7a3ab1-d174-45c8-d0a0-791ee7a8af50"
      },
      "execution_count": null,
      "outputs": [
        {
          "output_type": "stream",
          "name": "stdout",
          "text": [
            "configs  eng.traineddata  osd.traineddata  pdf.ttf  tessconfigs\n"
          ]
        }
      ]
    },
    {
      "cell_type": "code",
      "source": [
        "!tesseract num.font.exp0.tif num.font.exp0 -l 'eng.traineddata' --psm 6 lstm.train"
      ],
      "metadata": {
        "colab": {
          "base_uri": "https://localhost:8080/"
        },
        "id": "5oXdE5hWwDRm",
        "outputId": "fd936675-858a-4c6c-bedd-40934d10dea6"
      },
      "execution_count": null,
      "outputs": [
        {
          "output_type": "stream",
          "name": "stdout",
          "text": [
            "Error opening data file /content/tessdata/eng.traineddata.traineddata\n",
            "Please make sure the TESSDATA_PREFIX environment variable is set to your \"tessdata\" directory.\n",
            "Failed loading language 'eng.traineddata'\n",
            "Tesseract couldn't load any languages!\n",
            "Could not initialize tesseract.\n"
          ]
        }
      ]
    },
    {
      "cell_type": "code",
      "source": [],
      "metadata": {
        "id": "Yco3jguowU8f"
      },
      "execution_count": null,
      "outputs": []
    }
  ]
}