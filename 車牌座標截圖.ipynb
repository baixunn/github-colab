{
  "nbformat": 4,
  "nbformat_minor": 0,
  "metadata": {
    "colab": {
      "provenance": [],
      "gpuType": "T4",
      "authorship_tag": "ABX9TyOI34m7Oj7TsvMtEO8U+ouq",
      "include_colab_link": true
    },
    "kernelspec": {
      "name": "python3",
      "display_name": "Python 3"
    },
    "language_info": {
      "name": "python"
    },
    "accelerator": "GPU"
  },
  "cells": [
    {
      "cell_type": "markdown",
      "metadata": {
        "id": "view-in-github",
        "colab_type": "text"
      },
      "source": [
        "<a href=\"https://colab.research.google.com/github/wenchun0731/github-colab/blob/try/%E8%BB%8A%E7%89%8C%E5%BA%A7%E6%A8%99%E6%88%AA%E5%9C%96.ipynb\" target=\"_parent\"><img src=\"https://colab.research.google.com/assets/colab-badge.svg\" alt=\"Open In Colab\"/></a>"
      ]
    },
    {
      "cell_type": "code",
      "source": [
        "import os\n",
        "from google.colab import drive\n",
        "drive.mount(\"/content/drive\")"
      ],
      "metadata": {
        "colab": {
          "base_uri": "https://localhost:8080/"
        },
        "id": "-Q3B1gTsnCgp",
        "outputId": "96ef6283-1806-400e-f97b-97cb53bef7b3"
      },
      "execution_count": 1,
      "outputs": [
        {
          "output_type": "stream",
          "name": "stdout",
          "text": [
            "Mounted at /content/drive\n"
          ]
        }
      ]
    },
    {
      "cell_type": "code",
      "execution_count": null,
      "metadata": {
        "id": "H4oSgY-Om5Nf"
      },
      "outputs": [],
      "source": [
        "import numpy as np\n",
        "import pandas as pd\n",
        "import os\n",
        "import numpy\n",
        "\n",
        "os.mkdir(\"/content/plate_train_data\")\n",
        "os.mkdir(\"/content/plate_train_data/images\")\n",
        "os.mkdir(\"/content/plate_train_data/labels\")\n",
        "os.mkdir(\"/content/plate_train_data/images/train\")\n",
        "os.mkdir(\"/content/plate_train_data/images/val\")\n",
        "os.mkdir(\"/content/plate_train_data/labels/train\")\n",
        "os.mkdir(\"/content/plate_train_data/labels/val\")"
      ]
    },
    {
      "cell_type": "code",
      "source": [
        "import xml.etree.ElementTree as ET\n",
        "from xml.dom.minidom import parse\n",
        "\n",
        "path = \"/content/drive/MyDrive/AI/dataset/CarLicensePlateDetection/annotations\"\n",
        "classes = {\"licence\":0}\n",
        "\n",
        "for annotations in os.listdir(path):\n",
        "    dom = parse(os.path.join(path,annotations))\n",
        "    root = dom.documentElement\n",
        "    filename = \".txt\".join(root.getElementsByTagName(\"filename\")[0].childNodes[0].data.split(\".png\"))\n",
        "    image_width = root.getElementsByTagName(\"width\")[0].childNodes[0].data\n",
        "    image_height = root.getElementsByTagName(\"height\")[0].childNodes[0].data\n",
        "    with open(\"/content/plate_train_data/labels/train/\"+filename,\"w\") as r:\n",
        "        for items in root.getElementsByTagName(\"object\") :\n",
        "            name = items.getElementsByTagName(\"name\")[0].childNodes[0].data\n",
        "            xmin = items.getElementsByTagName(\"xmin\")[0].childNodes[0].data\n",
        "            ymin = items.getElementsByTagName(\"ymin\")[0].childNodes[0].data\n",
        "            xmax = items.getElementsByTagName(\"xmax\")[0].childNodes[0].data\n",
        "            ymax = items.getElementsByTagName(\"ymax\")[0].childNodes[0].data\n",
        "            x_center_norm = ((int(xmin)+int(xmax)) / 2 ) / int(image_width)\n",
        "            y_center_norm = ((int(ymin)+int(ymax))/2) / int(image_height)\n",
        "            width_norm = ((int(xmax)-int(xmin))/int(image_width))\n",
        "            height_norm = ((int(ymax)-int(ymin))/int(image_height))\n",
        "            r.write(str(classes[name])+\" \")\n",
        "            r.write(str(x_center_norm)+\" \")\n",
        "            r.write(str(y_center_norm)+\" \")\n",
        "            r.write(str(width_norm)+\" \")\n",
        "            r.write(str(height_norm)+\"\\n\")"
      ],
      "metadata": {
        "id": "DgssG2K3nJtl"
      },
      "execution_count": null,
      "outputs": []
    },
    {
      "cell_type": "code",
      "source": [
        "import shutil\n",
        "path = \"/content/drive/MyDrive/AI/dataset/CarLicensePlateDetection/images\"\n",
        "\n",
        "for images in os.listdir(path):\n",
        "  image_path = os.path.join(path,images)\n",
        "  shutil.copy(image_path,\"/content/plate_train_data/images/train/\"+images)"
      ],
      "metadata": {
        "id": "C7tYJHjxspdu"
      },
      "execution_count": null,
      "outputs": []
    },
    {
      "cell_type": "code",
      "source": [
        "from random import shuffle\n",
        "from glob import glob\n",
        "import random\n",
        "import shutil\n",
        "\n",
        "random.seed(42)\n",
        "files = glob(\"/content/plate_train_data/images/train/*.png\")\n",
        "shuffle(files)\n",
        "txt_train_path = \"/content/plate_train_data/labels/train/\"\n",
        "img_train_path = \"/content/plate_train_data/images/train/\"\n",
        "txt_val_path = \"/content/plate_train_data/labels/val/\"\n",
        "img_val_path = \"/content/plate_train_data/images/val/\"\n",
        "for i in files[:120]:\n",
        "    filename = i.split(\"/\")[-1]\n",
        "    shutil.move(txt_train_path+filename.replace(\".png\",\".txt\"),\\\n",
        "                txt_val_path+filename.replace(\".png\",\".txt\"))\n",
        "    shutil.move(img_train_path+filename,img_val_path+filename)"
      ],
      "metadata": {
        "id": "v4VeXAmqtrMS"
      },
      "execution_count": null,
      "outputs": []
    },
    {
      "cell_type": "code",
      "source": [
        "%cd /content"
      ],
      "metadata": {
        "colab": {
          "base_uri": "https://localhost:8080/"
        },
        "id": "2AcU0tyttvu_",
        "outputId": "e5522168-4723-465d-ec16-1049eb1b95e1"
      },
      "execution_count": null,
      "outputs": [
        {
          "output_type": "stream",
          "name": "stdout",
          "text": [
            "/content\n"
          ]
        }
      ]
    },
    {
      "cell_type": "code",
      "source": [
        "!echo \"train: /content/plate_train_data/images/train\" > licence.yaml\n",
        "!echo \"val:   /content/plate_train_data/images/val\"  >> licence.yaml\n",
        "!echo \"nc : 1\" >> licence.yaml\n",
        "!echo \"names: ['licence']\" >> licence.yaml"
      ],
      "metadata": {
        "id": "gyPNg50LtyzE"
      },
      "execution_count": null,
      "outputs": []
    },
    {
      "cell_type": "code",
      "source": [
        "%cd /content/\n",
        "%rm -rf yolov5\n",
        "!git clone https://github.com/ultralytics/yolov5\n",
        "%cd yolov5\n",
        "!pip install -r requirements.txt"
      ],
      "metadata": {
        "colab": {
          "base_uri": "https://localhost:8080/"
        },
        "id": "-DwDG3i8t2BX",
        "outputId": "6c34c6d0-51cb-4b02-8f7f-82abddd6f27b"
      },
      "execution_count": null,
      "outputs": [
        {
          "output_type": "stream",
          "name": "stdout",
          "text": [
            "/content\n",
            "Cloning into 'yolov5'...\n",
            "remote: Enumerating objects: 16517, done.\u001b[K\n",
            "remote: Counting objects: 100% (115/115), done.\u001b[K\n",
            "remote: Compressing objects: 100% (98/98), done.\u001b[K\n",
            "remote: Total 16517 (delta 47), reused 54 (delta 17), pack-reused 16402\u001b[K\n",
            "Receiving objects: 100% (16517/16517), 15.17 MiB | 24.58 MiB/s, done.\n",
            "Resolving deltas: 100% (11304/11304), done.\n",
            "/content/yolov5\n",
            "Collecting gitpython>=3.1.30 (from -r requirements.txt (line 5))\n",
            "  Downloading GitPython-3.1.42-py3-none-any.whl (195 kB)\n",
            "\u001b[2K     \u001b[90m━━━━━━━━━━━━━━━━━━━━━━━━━━━━━━━━━━━━━━━━\u001b[0m \u001b[32m195.4/195.4 kB\u001b[0m \u001b[31m5.9 MB/s\u001b[0m eta \u001b[36m0:00:00\u001b[0m\n",
            "\u001b[?25hRequirement already satisfied: matplotlib>=3.3 in /usr/local/lib/python3.10/dist-packages (from -r requirements.txt (line 6)) (3.7.1)\n",
            "Requirement already satisfied: numpy>=1.23.5 in /usr/local/lib/python3.10/dist-packages (from -r requirements.txt (line 7)) (1.25.2)\n",
            "Requirement already satisfied: opencv-python>=4.1.1 in /usr/local/lib/python3.10/dist-packages (from -r requirements.txt (line 8)) (4.8.0.76)\n",
            "Requirement already satisfied: Pillow>=9.4.0 in /usr/local/lib/python3.10/dist-packages (from -r requirements.txt (line 9)) (9.4.0)\n",
            "Requirement already satisfied: psutil in /usr/local/lib/python3.10/dist-packages (from -r requirements.txt (line 10)) (5.9.5)\n",
            "Requirement already satisfied: PyYAML>=5.3.1 in /usr/local/lib/python3.10/dist-packages (from -r requirements.txt (line 11)) (6.0.1)\n",
            "Requirement already satisfied: requests>=2.23.0 in /usr/local/lib/python3.10/dist-packages (from -r requirements.txt (line 12)) (2.31.0)\n",
            "Requirement already satisfied: scipy>=1.4.1 in /usr/local/lib/python3.10/dist-packages (from -r requirements.txt (line 13)) (1.11.4)\n",
            "Collecting thop>=0.1.1 (from -r requirements.txt (line 14))\n",
            "  Downloading thop-0.1.1.post2209072238-py3-none-any.whl (15 kB)\n",
            "Requirement already satisfied: torch>=1.8.0 in /usr/local/lib/python3.10/dist-packages (from -r requirements.txt (line 15)) (2.1.0+cu121)\n",
            "Requirement already satisfied: torchvision>=0.9.0 in /usr/local/lib/python3.10/dist-packages (from -r requirements.txt (line 16)) (0.16.0+cu121)\n",
            "Requirement already satisfied: tqdm>=4.64.0 in /usr/local/lib/python3.10/dist-packages (from -r requirements.txt (line 17)) (4.66.2)\n",
            "Collecting ultralytics>=8.0.232 (from -r requirements.txt (line 18))\n",
            "  Downloading ultralytics-8.1.27-py3-none-any.whl (721 kB)\n",
            "\u001b[2K     \u001b[90m━━━━━━━━━━━━━━━━━━━━━━━━━━━━━━━━━━━━━━━━\u001b[0m \u001b[32m721.2/721.2 kB\u001b[0m \u001b[31m15.5 MB/s\u001b[0m eta \u001b[36m0:00:00\u001b[0m\n",
            "\u001b[?25hRequirement already satisfied: pandas>=1.1.4 in /usr/local/lib/python3.10/dist-packages (from -r requirements.txt (line 27)) (1.5.3)\n",
            "Requirement already satisfied: seaborn>=0.11.0 in /usr/local/lib/python3.10/dist-packages (from -r requirements.txt (line 28)) (0.13.1)\n",
            "Requirement already satisfied: setuptools>=65.5.1 in /usr/local/lib/python3.10/dist-packages (from -r requirements.txt (line 42)) (67.7.2)\n",
            "Requirement already satisfied: wheel>=0.38.0 in /usr/local/lib/python3.10/dist-packages (from -r requirements.txt (line 50)) (0.42.0)\n",
            "Collecting gitdb<5,>=4.0.1 (from gitpython>=3.1.30->-r requirements.txt (line 5))\n",
            "  Downloading gitdb-4.0.11-py3-none-any.whl (62 kB)\n",
            "\u001b[2K     \u001b[90m━━━━━━━━━━━━━━━━━━━━━━━━━━━━━━━━━━━━━━━━\u001b[0m \u001b[32m62.7/62.7 kB\u001b[0m \u001b[31m8.7 MB/s\u001b[0m eta \u001b[36m0:00:00\u001b[0m\n",
            "\u001b[?25hRequirement already satisfied: contourpy>=1.0.1 in /usr/local/lib/python3.10/dist-packages (from matplotlib>=3.3->-r requirements.txt (line 6)) (1.2.0)\n",
            "Requirement already satisfied: cycler>=0.10 in /usr/local/lib/python3.10/dist-packages (from matplotlib>=3.3->-r requirements.txt (line 6)) (0.12.1)\n",
            "Requirement already satisfied: fonttools>=4.22.0 in /usr/local/lib/python3.10/dist-packages (from matplotlib>=3.3->-r requirements.txt (line 6)) (4.49.0)\n",
            "Requirement already satisfied: kiwisolver>=1.0.1 in /usr/local/lib/python3.10/dist-packages (from matplotlib>=3.3->-r requirements.txt (line 6)) (1.4.5)\n",
            "Requirement already satisfied: packaging>=20.0 in /usr/local/lib/python3.10/dist-packages (from matplotlib>=3.3->-r requirements.txt (line 6)) (23.2)\n",
            "Requirement already satisfied: pyparsing>=2.3.1 in /usr/local/lib/python3.10/dist-packages (from matplotlib>=3.3->-r requirements.txt (line 6)) (3.1.2)\n",
            "Requirement already satisfied: python-dateutil>=2.7 in /usr/local/lib/python3.10/dist-packages (from matplotlib>=3.3->-r requirements.txt (line 6)) (2.8.2)\n",
            "Requirement already satisfied: charset-normalizer<4,>=2 in /usr/local/lib/python3.10/dist-packages (from requests>=2.23.0->-r requirements.txt (line 12)) (3.3.2)\n",
            "Requirement already satisfied: idna<4,>=2.5 in /usr/local/lib/python3.10/dist-packages (from requests>=2.23.0->-r requirements.txt (line 12)) (3.6)\n",
            "Requirement already satisfied: urllib3<3,>=1.21.1 in /usr/local/lib/python3.10/dist-packages (from requests>=2.23.0->-r requirements.txt (line 12)) (2.0.7)\n",
            "Requirement already satisfied: certifi>=2017.4.17 in /usr/local/lib/python3.10/dist-packages (from requests>=2.23.0->-r requirements.txt (line 12)) (2024.2.2)\n",
            "Requirement already satisfied: filelock in /usr/local/lib/python3.10/dist-packages (from torch>=1.8.0->-r requirements.txt (line 15)) (3.13.1)\n",
            "Requirement already satisfied: typing-extensions in /usr/local/lib/python3.10/dist-packages (from torch>=1.8.0->-r requirements.txt (line 15)) (4.10.0)\n",
            "Requirement already satisfied: sympy in /usr/local/lib/python3.10/dist-packages (from torch>=1.8.0->-r requirements.txt (line 15)) (1.12)\n",
            "Requirement already satisfied: networkx in /usr/local/lib/python3.10/dist-packages (from torch>=1.8.0->-r requirements.txt (line 15)) (3.2.1)\n",
            "Requirement already satisfied: jinja2 in /usr/local/lib/python3.10/dist-packages (from torch>=1.8.0->-r requirements.txt (line 15)) (3.1.3)\n",
            "Requirement already satisfied: fsspec in /usr/local/lib/python3.10/dist-packages (from torch>=1.8.0->-r requirements.txt (line 15)) (2023.6.0)\n",
            "Requirement already satisfied: triton==2.1.0 in /usr/local/lib/python3.10/dist-packages (from torch>=1.8.0->-r requirements.txt (line 15)) (2.1.0)\n",
            "Requirement already satisfied: py-cpuinfo in /usr/local/lib/python3.10/dist-packages (from ultralytics>=8.0.232->-r requirements.txt (line 18)) (9.0.0)\n",
            "Requirement already satisfied: pytz>=2020.1 in /usr/local/lib/python3.10/dist-packages (from pandas>=1.1.4->-r requirements.txt (line 27)) (2023.4)\n",
            "Collecting smmap<6,>=3.0.1 (from gitdb<5,>=4.0.1->gitpython>=3.1.30->-r requirements.txt (line 5))\n",
            "  Downloading smmap-5.0.1-py3-none-any.whl (24 kB)\n",
            "Requirement already satisfied: six>=1.5 in /usr/local/lib/python3.10/dist-packages (from python-dateutil>=2.7->matplotlib>=3.3->-r requirements.txt (line 6)) (1.16.0)\n",
            "Requirement already satisfied: MarkupSafe>=2.0 in /usr/local/lib/python3.10/dist-packages (from jinja2->torch>=1.8.0->-r requirements.txt (line 15)) (2.1.5)\n",
            "Requirement already satisfied: mpmath>=0.19 in /usr/local/lib/python3.10/dist-packages (from sympy->torch>=1.8.0->-r requirements.txt (line 15)) (1.3.0)\n",
            "Installing collected packages: smmap, gitdb, thop, gitpython, ultralytics\n",
            "Successfully installed gitdb-4.0.11 gitpython-3.1.42 smmap-5.0.1 thop-0.1.1.post2209072238 ultralytics-8.1.27\n"
          ]
        }
      ]
    },
    {
      "cell_type": "code",
      "source": [
        "!python train.py --weights yolov5s.pt --cfg models/yolov5s.yaml --img 416 --batch 48 --epochs 40 --data /content/licence.yaml  --cache"
      ],
      "metadata": {
        "colab": {
          "base_uri": "https://localhost:8080/"
        },
        "id": "SwqfKC54t2Y2",
        "outputId": "73909fee-7c3b-4471-ca1d-7c720e919779"
      },
      "execution_count": null,
      "outputs": [
        {
          "output_type": "stream",
          "name": "stdout",
          "text": [
            "2024-03-12 03:12:56.169756: E external/local_xla/xla/stream_executor/cuda/cuda_dnn.cc:9261] Unable to register cuDNN factory: Attempting to register factory for plugin cuDNN when one has already been registered\n",
            "2024-03-12 03:12:56.169825: E external/local_xla/xla/stream_executor/cuda/cuda_fft.cc:607] Unable to register cuFFT factory: Attempting to register factory for plugin cuFFT when one has already been registered\n",
            "2024-03-12 03:12:56.171801: E external/local_xla/xla/stream_executor/cuda/cuda_blas.cc:1515] Unable to register cuBLAS factory: Attempting to register factory for plugin cuBLAS when one has already been registered\n",
            "\u001b[34m\u001b[1mtrain: \u001b[0mweights=yolov5s.pt, cfg=models/yolov5s.yaml, data=/content/licence.yaml, hyp=data/hyps/hyp.scratch-low.yaml, epochs=40, batch_size=48, imgsz=416, rect=False, resume=False, nosave=False, noval=False, noautoanchor=False, noplots=False, evolve=None, evolve_population=data/hyps, resume_evolve=None, bucket=, cache=ram, image_weights=False, device=, multi_scale=False, single_cls=False, optimizer=SGD, sync_bn=False, workers=8, project=runs/train, name=exp, exist_ok=False, quad=False, cos_lr=False, label_smoothing=0.0, patience=100, freeze=[0], save_period=-1, seed=0, local_rank=-1, entity=None, upload_dataset=False, bbox_interval=-1, artifact_alias=latest, ndjson_console=False, ndjson_file=False\n",
            "\u001b[34m\u001b[1mgithub: \u001b[0mup to date with https://github.com/ultralytics/yolov5 ✅\n",
            "YOLOv5 🚀 v7.0-294-gdb125a20 Python-3.10.12 torch-2.1.0+cu121 CUDA:0 (Tesla T4, 15102MiB)\n",
            "\n",
            "\u001b[34m\u001b[1mhyperparameters: \u001b[0mlr0=0.01, lrf=0.01, momentum=0.937, weight_decay=0.0005, warmup_epochs=3.0, warmup_momentum=0.8, warmup_bias_lr=0.1, box=0.05, cls=0.5, cls_pw=1.0, obj=1.0, obj_pw=1.0, iou_t=0.2, anchor_t=4.0, fl_gamma=0.0, hsv_h=0.015, hsv_s=0.7, hsv_v=0.4, degrees=0.0, translate=0.1, scale=0.5, shear=0.0, perspective=0.0, flipud=0.0, fliplr=0.5, mosaic=1.0, mixup=0.0, copy_paste=0.0\n",
            "\u001b[34m\u001b[1mComet: \u001b[0mrun 'pip install comet_ml' to automatically track and visualize YOLOv5 🚀 runs in Comet\n",
            "\u001b[34m\u001b[1mTensorBoard: \u001b[0mStart with 'tensorboard --logdir runs/train', view at http://localhost:6006/\n",
            "Downloading https://ultralytics.com/assets/Arial.ttf to /root/.config/Ultralytics/Arial.ttf...\n",
            "100% 755k/755k [00:00<00:00, 52.1MB/s]\n",
            "Downloading https://github.com/ultralytics/yolov5/releases/download/v7.0/yolov5s.pt to yolov5s.pt...\n",
            "100% 14.1M/14.1M [00:00<00:00, 257MB/s]\n",
            "\n",
            "Overriding model.yaml nc=80 with nc=1\n",
            "\n",
            "                 from  n    params  module                                  arguments                     \n",
            "  0                -1  1      3520  models.common.Conv                      [3, 32, 6, 2, 2]              \n",
            "  1                -1  1     18560  models.common.Conv                      [32, 64, 3, 2]                \n",
            "  2                -1  1     18816  models.common.C3                        [64, 64, 1]                   \n",
            "  3                -1  1     73984  models.common.Conv                      [64, 128, 3, 2]               \n",
            "  4                -1  2    115712  models.common.C3                        [128, 128, 2]                 \n",
            "  5                -1  1    295424  models.common.Conv                      [128, 256, 3, 2]              \n",
            "  6                -1  3    625152  models.common.C3                        [256, 256, 3]                 \n",
            "  7                -1  1   1180672  models.common.Conv                      [256, 512, 3, 2]              \n",
            "  8                -1  1   1182720  models.common.C3                        [512, 512, 1]                 \n",
            "  9                -1  1    656896  models.common.SPPF                      [512, 512, 5]                 \n",
            " 10                -1  1    131584  models.common.Conv                      [512, 256, 1, 1]              \n",
            " 11                -1  1         0  torch.nn.modules.upsampling.Upsample    [None, 2, 'nearest']          \n",
            " 12           [-1, 6]  1         0  models.common.Concat                    [1]                           \n",
            " 13                -1  1    361984  models.common.C3                        [512, 256, 1, False]          \n",
            " 14                -1  1     33024  models.common.Conv                      [256, 128, 1, 1]              \n",
            " 15                -1  1         0  torch.nn.modules.upsampling.Upsample    [None, 2, 'nearest']          \n",
            " 16           [-1, 4]  1         0  models.common.Concat                    [1]                           \n",
            " 17                -1  1     90880  models.common.C3                        [256, 128, 1, False]          \n",
            " 18                -1  1    147712  models.common.Conv                      [128, 128, 3, 2]              \n",
            " 19          [-1, 14]  1         0  models.common.Concat                    [1]                           \n",
            " 20                -1  1    296448  models.common.C3                        [256, 256, 1, False]          \n",
            " 21                -1  1    590336  models.common.Conv                      [256, 256, 3, 2]              \n",
            " 22          [-1, 10]  1         0  models.common.Concat                    [1]                           \n",
            " 23                -1  1   1182720  models.common.C3                        [512, 512, 1, False]          \n",
            " 24      [17, 20, 23]  1     16182  models.yolo.Detect                      [1, [[10, 13, 16, 30, 33, 23], [30, 61, 62, 45, 59, 119], [116, 90, 156, 198, 373, 326]], [128, 256, 512]]\n",
            "YOLOv5s summary: 214 layers, 7022326 parameters, 7022326 gradients, 15.9 GFLOPs\n",
            "\n",
            "Transferred 342/349 items from yolov5s.pt\n",
            "\u001b[34m\u001b[1mAMP: \u001b[0mchecks passed ✅\n",
            "\u001b[34m\u001b[1moptimizer:\u001b[0m SGD(lr=0.01) with parameter groups 57 weight(decay=0.0), 60 weight(decay=0.000375), 60 bias\n",
            "\u001b[34m\u001b[1malbumentations: \u001b[0mBlur(p=0.01, blur_limit=(3, 7)), MedianBlur(p=0.01, blur_limit=(3, 7)), ToGray(p=0.01), CLAHE(p=0.01, clip_limit=(1, 4.0), tile_grid_size=(8, 8))\n",
            "\u001b[34m\u001b[1mtrain: \u001b[0mScanning /content/plate_train_data/labels/train... 313 images, 0 backgrounds, 0 corrupt: 100% 313/313 [00:00<00:00, 729.76it/s]\n",
            "\u001b[34m\u001b[1mtrain: \u001b[0mNew cache created: /content/plate_train_data/labels/train.cache\n",
            "\u001b[34m\u001b[1mtrain: \u001b[0mCaching images (0.1GB ram): 100% 313/313 [00:04<00:00, 77.26it/s]\n",
            "\u001b[34m\u001b[1mval: \u001b[0mScanning /content/plate_train_data/labels/val... 120 images, 0 backgrounds, 0 corrupt: 100% 120/120 [00:00<00:00, 159.63it/s]\n",
            "\u001b[34m\u001b[1mval: \u001b[0mNew cache created: /content/plate_train_data/labels/val.cache\n",
            "\u001b[34m\u001b[1mval: \u001b[0mCaching images (0.0GB ram): 100% 120/120 [00:02<00:00, 50.16it/s]\n",
            "\n",
            "\u001b[34m\u001b[1mAutoAnchor: \u001b[0m4.00 anchors/target, 1.000 Best Possible Recall (BPR). Current anchors are a good fit to dataset ✅\n",
            "Plotting labels to runs/train/exp/labels.jpg... \n",
            "Image sizes 416 train, 416 val\n",
            "Using 2 dataloader workers\n",
            "Logging results to \u001b[1mruns/train/exp\u001b[0m\n",
            "Starting training for 40 epochs...\n",
            "\n",
            "      Epoch    GPU_mem   box_loss   obj_loss   cls_loss  Instances       Size\n",
            "       0/39      4.22G     0.1224    0.01576          0         58        416: 100% 7/7 [00:07<00:00,  1.01s/it]\n",
            "                 Class     Images  Instances          P          R      mAP50   mAP50-95: 100% 2/2 [00:02<00:00,  1.42s/it]\n",
            "                   all        120        137    0.00101     0.0949   0.000765   0.000177\n",
            "\n",
            "      Epoch    GPU_mem   box_loss   obj_loss   cls_loss  Instances       Size\n",
            "       1/39      4.83G     0.1113    0.01659          0         46        416: 100% 7/7 [00:02<00:00,  3.30it/s]\n",
            "                 Class     Images  Instances          P          R      mAP50   mAP50-95: 100% 2/2 [00:01<00:00,  1.78it/s]\n",
            "                   all        120        137    0.00101      0.263    0.00124   0.000263\n",
            "\n",
            "      Epoch    GPU_mem   box_loss   obj_loss   cls_loss  Instances       Size\n",
            "       2/39      4.83G     0.1032    0.01664          0         65        416: 100% 7/7 [00:02<00:00,  3.40it/s]\n",
            "                 Class     Images  Instances          P          R      mAP50   mAP50-95: 100% 2/2 [00:01<00:00,  1.93it/s]\n",
            "                   all        120        137    0.00136      0.358    0.00218   0.000499\n",
            "\n",
            "      Epoch    GPU_mem   box_loss   obj_loss   cls_loss  Instances       Size\n",
            "       3/39      4.83G     0.0945    0.01626          0         41        416: 100% 7/7 [00:02<00:00,  2.89it/s]\n",
            "                 Class     Images  Instances          P          R      mAP50   mAP50-95: 100% 2/2 [00:01<00:00,  1.16it/s]\n",
            "                   all        120        137     0.0766     0.0365     0.0319    0.00859\n",
            "\n",
            "      Epoch    GPU_mem   box_loss   obj_loss   cls_loss  Instances       Size\n",
            "       4/39      4.83G     0.0879    0.01744          0         56        416: 100% 7/7 [00:02<00:00,  3.37it/s]\n",
            "                 Class     Images  Instances          P          R      mAP50   mAP50-95: 100% 2/2 [00:01<00:00,  1.85it/s]\n",
            "                   all        120        137      0.421      0.175       0.22     0.0649\n",
            "\n",
            "      Epoch    GPU_mem   box_loss   obj_loss   cls_loss  Instances       Size\n",
            "       5/39      4.83G    0.07904    0.01639          0         44        416: 100% 7/7 [00:02<00:00,  3.43it/s]\n",
            "                 Class     Images  Instances          P          R      mAP50   mAP50-95: 100% 2/2 [00:01<00:00,  1.96it/s]\n",
            "                   all        120        137      0.459      0.285      0.305     0.0794\n",
            "\n",
            "      Epoch    GPU_mem   box_loss   obj_loss   cls_loss  Instances       Size\n",
            "       6/39      4.83G    0.07193    0.01656          0         52        416: 100% 7/7 [00:02<00:00,  3.35it/s]\n",
            "                 Class     Images  Instances          P          R      mAP50   mAP50-95: 100% 2/2 [00:01<00:00,  1.01it/s]\n",
            "                   all        120        137      0.562      0.321      0.356      0.107\n",
            "\n",
            "      Epoch    GPU_mem   box_loss   obj_loss   cls_loss  Instances       Size\n",
            "       7/39      4.83G    0.06585    0.01543          0         36        416: 100% 7/7 [00:02<00:00,  2.94it/s]\n",
            "                 Class     Images  Instances          P          R      mAP50   mAP50-95: 100% 2/2 [00:01<00:00,  1.85it/s]\n",
            "                   all        120        137      0.339      0.401      0.225     0.0712\n",
            "\n",
            "      Epoch    GPU_mem   box_loss   obj_loss   cls_loss  Instances       Size\n",
            "       8/39      4.83G    0.06237      0.017          0         54        416: 100% 7/7 [00:02<00:00,  3.42it/s]\n",
            "                 Class     Images  Instances          P          R      mAP50   mAP50-95: 100% 2/2 [00:01<00:00,  1.94it/s]\n",
            "                   all        120        137      0.424      0.431      0.388       0.14\n",
            "\n",
            "      Epoch    GPU_mem   box_loss   obj_loss   cls_loss  Instances       Size\n",
            "       9/39      4.83G     0.0604    0.01546          0         61        416: 100% 7/7 [00:02<00:00,  3.24it/s]\n",
            "                 Class     Images  Instances          P          R      mAP50   mAP50-95: 100% 2/2 [00:00<00:00,  2.10it/s]\n",
            "                   all        120        137      0.492      0.328      0.321     0.0891\n",
            "\n",
            "      Epoch    GPU_mem   box_loss   obj_loss   cls_loss  Instances       Size\n",
            "      10/39      4.83G    0.05638    0.01541          0         52        416: 100% 7/7 [00:02<00:00,  2.72it/s]\n",
            "                 Class     Images  Instances          P          R      mAP50   mAP50-95: 100% 2/2 [00:01<00:00,  1.04it/s]\n",
            "                   all        120        137      0.638      0.518      0.561      0.242\n",
            "\n",
            "      Epoch    GPU_mem   box_loss   obj_loss   cls_loss  Instances       Size\n",
            "      11/39      4.83G    0.05493    0.01443          0         45        416: 100% 7/7 [00:02<00:00,  3.35it/s]\n",
            "                 Class     Images  Instances          P          R      mAP50   mAP50-95: 100% 2/2 [00:00<00:00,  2.06it/s]\n",
            "                   all        120        137      0.487       0.54      0.409       0.16\n",
            "\n",
            "      Epoch    GPU_mem   box_loss   obj_loss   cls_loss  Instances       Size\n",
            "      12/39      4.83G    0.05258    0.01394          0         51        416: 100% 7/7 [00:02<00:00,  3.30it/s]\n",
            "                 Class     Images  Instances          P          R      mAP50   mAP50-95: 100% 2/2 [00:00<00:00,  2.11it/s]\n",
            "                   all        120        137      0.589      0.639      0.603      0.189\n",
            "\n",
            "      Epoch    GPU_mem   box_loss   obj_loss   cls_loss  Instances       Size\n",
            "      13/39      4.83G    0.05089    0.01353          0         52        416: 100% 7/7 [00:02<00:00,  3.29it/s]\n",
            "                 Class     Images  Instances          P          R      mAP50   mAP50-95: 100% 2/2 [00:01<00:00,  1.65it/s]\n",
            "                   all        120        137      0.643      0.635      0.671      0.323\n",
            "\n",
            "      Epoch    GPU_mem   box_loss   obj_loss   cls_loss  Instances       Size\n",
            "      14/39      4.83G    0.04615    0.01211          0         42        416: 100% 7/7 [00:02<00:00,  2.53it/s]\n",
            "                 Class     Images  Instances          P          R      mAP50   mAP50-95: 100% 2/2 [00:01<00:00,  1.86it/s]\n",
            "                   all        120        137      0.691      0.622      0.679      0.253\n",
            "\n",
            "      Epoch    GPU_mem   box_loss   obj_loss   cls_loss  Instances       Size\n",
            "      15/39      4.83G    0.04536    0.01177          0         46        416: 100% 7/7 [00:02<00:00,  3.44it/s]\n",
            "                 Class     Images  Instances          P          R      mAP50   mAP50-95: 100% 2/2 [00:01<00:00,  1.95it/s]\n",
            "                   all        120        137      0.786      0.645      0.764      0.325\n",
            "\n",
            "      Epoch    GPU_mem   box_loss   obj_loss   cls_loss  Instances       Size\n",
            "      16/39      4.83G    0.04379    0.01108          0         50        416: 100% 7/7 [00:02<00:00,  3.31it/s]\n",
            "                 Class     Images  Instances          P          R      mAP50   mAP50-95: 100% 2/2 [00:00<00:00,  2.12it/s]\n",
            "                   all        120        137      0.675      0.635      0.671      0.283\n",
            "\n",
            "      Epoch    GPU_mem   box_loss   obj_loss   cls_loss  Instances       Size\n",
            "      17/39      4.83G    0.04361    0.01001          0         55        416: 100% 7/7 [00:02<00:00,  3.01it/s]\n",
            "                 Class     Images  Instances          P          R      mAP50   mAP50-95: 100% 2/2 [00:01<00:00,  1.41it/s]\n",
            "                   all        120        137      0.808      0.701      0.794      0.369\n",
            "\n",
            "      Epoch    GPU_mem   box_loss   obj_loss   cls_loss  Instances       Size\n",
            "      18/39      4.83G    0.04254   0.009902          0         57        416: 100% 7/7 [00:02<00:00,  2.34it/s]\n",
            "                 Class     Images  Instances          P          R      mAP50   mAP50-95: 100% 2/2 [00:01<00:00,  1.24it/s]\n",
            "                   all        120        137       0.91      0.667       0.84      0.388\n",
            "\n",
            "      Epoch    GPU_mem   box_loss   obj_loss   cls_loss  Instances       Size\n",
            "      19/39      4.83G    0.04001   0.009483          0         54        416: 100% 7/7 [00:02<00:00,  3.37it/s]\n",
            "                 Class     Images  Instances          P          R      mAP50   mAP50-95: 100% 2/2 [00:01<00:00,  1.97it/s]\n",
            "                   all        120        137      0.916      0.664      0.838       0.35\n",
            "\n",
            "      Epoch    GPU_mem   box_loss   obj_loss   cls_loss  Instances       Size\n",
            "      20/39      4.83G     0.0401   0.009043          0         52        416: 100% 7/7 [00:02<00:00,  3.27it/s]\n",
            "                 Class     Images  Instances          P          R      mAP50   mAP50-95: 100% 2/2 [00:01<00:00,  1.80it/s]\n",
            "                   all        120        137      0.892       0.72       0.86      0.375\n",
            "\n",
            "      Epoch    GPU_mem   box_loss   obj_loss   cls_loss  Instances       Size\n",
            "      21/39      4.83G    0.03672   0.008535          0         40        416: 100% 7/7 [00:02<00:00,  2.52it/s]\n",
            "                 Class     Images  Instances          P          R      mAP50   mAP50-95: 100% 2/2 [00:01<00:00,  1.51it/s]\n",
            "                   all        120        137      0.859      0.723       0.81      0.288\n",
            "\n",
            "      Epoch    GPU_mem   box_loss   obj_loss   cls_loss  Instances       Size\n",
            "      22/39      4.83G     0.0373   0.008797          0         47        416: 100% 7/7 [00:02<00:00,  3.42it/s]\n",
            "                 Class     Images  Instances          P          R      mAP50   mAP50-95: 100% 2/2 [00:00<00:00,  2.15it/s]\n",
            "                   all        120        137      0.879      0.715      0.839      0.402\n",
            "\n",
            "      Epoch    GPU_mem   box_loss   obj_loss   cls_loss  Instances       Size\n",
            "      23/39      4.83G     0.0358   0.008601          0         43        416: 100% 7/7 [00:02<00:00,  3.34it/s]\n",
            "                 Class     Images  Instances          P          R      mAP50   mAP50-95: 100% 2/2 [00:00<00:00,  2.22it/s]\n",
            "                   all        120        137       0.83      0.832       0.89      0.422\n",
            "\n",
            "      Epoch    GPU_mem   box_loss   obj_loss   cls_loss  Instances       Size\n",
            "      24/39      4.83G    0.03713   0.008014          0         52        416: 100% 7/7 [00:02<00:00,  3.24it/s]\n",
            "                 Class     Images  Instances          P          R      mAP50   mAP50-95: 100% 2/2 [00:01<00:00,  1.34it/s]\n",
            "                   all        120        137      0.908      0.788      0.889      0.443\n",
            "\n",
            "      Epoch    GPU_mem   box_loss   obj_loss   cls_loss  Instances       Size\n",
            "      25/39      4.83G    0.03402   0.007876          0         47        416: 100% 7/7 [00:02<00:00,  2.83it/s]\n",
            "                 Class     Images  Instances          P          R      mAP50   mAP50-95: 100% 2/2 [00:00<00:00,  2.19it/s]\n",
            "                   all        120        137      0.871      0.841      0.911       0.44\n",
            "\n",
            "      Epoch    GPU_mem   box_loss   obj_loss   cls_loss  Instances       Size\n",
            "      26/39      4.83G    0.03239    0.00786          0         41        416: 100% 7/7 [00:02<00:00,  3.40it/s]\n",
            "                 Class     Images  Instances          P          R      mAP50   mAP50-95: 100% 2/2 [00:01<00:00,  1.36it/s]\n",
            "                   all        120        137      0.854      0.856      0.898      0.467\n",
            "\n",
            "      Epoch    GPU_mem   box_loss   obj_loss   cls_loss  Instances       Size\n",
            "      27/39      4.83G    0.03202   0.007699          0         42        416: 100% 7/7 [00:02<00:00,  2.75it/s]\n",
            "                 Class     Images  Instances          P          R      mAP50   mAP50-95: 100% 2/2 [00:01<00:00,  1.49it/s]\n",
            "                   all        120        137      0.871      0.841      0.901      0.477\n",
            "\n",
            "      Epoch    GPU_mem   box_loss   obj_loss   cls_loss  Instances       Size\n",
            "      28/39      4.83G    0.03221   0.007101          0         46        416: 100% 7/7 [00:02<00:00,  2.57it/s]\n",
            "                 Class     Images  Instances          P          R      mAP50   mAP50-95: 100% 2/2 [00:01<00:00,  1.88it/s]\n",
            "                   all        120        137      0.872      0.793      0.846      0.447\n",
            "\n",
            "      Epoch    GPU_mem   box_loss   obj_loss   cls_loss  Instances       Size\n",
            "      29/39      4.83G    0.02978   0.007185          0         43        416: 100% 7/7 [00:02<00:00,  3.46it/s]\n",
            "                 Class     Images  Instances          P          R      mAP50   mAP50-95: 100% 2/2 [00:00<00:00,  2.10it/s]\n",
            "                   all        120        137      0.879      0.839      0.877      0.477\n",
            "\n",
            "      Epoch    GPU_mem   box_loss   obj_loss   cls_loss  Instances       Size\n",
            "      30/39      4.83G    0.03123   0.007119          0         49        416: 100% 7/7 [00:02<00:00,  3.40it/s]\n",
            "                 Class     Images  Instances          P          R      mAP50   mAP50-95: 100% 2/2 [00:00<00:00,  2.10it/s]\n",
            "                   all        120        137      0.913       0.84      0.892      0.446\n",
            "\n",
            "      Epoch    GPU_mem   box_loss   obj_loss   cls_loss  Instances       Size\n",
            "      31/39      4.83G     0.0285   0.007127          0         46        416: 100% 7/7 [00:02<00:00,  3.08it/s]\n",
            "                 Class     Images  Instances          P          R      mAP50   mAP50-95: 100% 2/2 [00:01<00:00,  1.38it/s]\n",
            "                   all        120        137       0.91      0.808      0.883      0.482\n",
            "\n",
            "      Epoch    GPU_mem   box_loss   obj_loss   cls_loss  Instances       Size\n",
            "      32/39      4.83G    0.02977   0.007631          0         57        416: 100% 7/7 [00:02<00:00,  2.98it/s]\n",
            "                 Class     Images  Instances          P          R      mAP50   mAP50-95: 100% 2/2 [00:00<00:00,  2.06it/s]\n",
            "                   all        120        137      0.897      0.832      0.897      0.507\n",
            "\n",
            "      Epoch    GPU_mem   box_loss   obj_loss   cls_loss  Instances       Size\n",
            "      33/39      4.83G    0.02773    0.00698          0         49        416: 100% 7/7 [00:02<00:00,  3.36it/s]\n",
            "                 Class     Images  Instances          P          R      mAP50   mAP50-95: 100% 2/2 [00:00<00:00,  2.14it/s]\n",
            "                   all        120        137      0.881      0.863       0.91      0.519\n",
            "\n",
            "      Epoch    GPU_mem   box_loss   obj_loss   cls_loss  Instances       Size\n",
            "      34/39      4.83G    0.02677   0.007011          0         52        416: 100% 7/7 [00:02<00:00,  3.34it/s]\n",
            "                 Class     Images  Instances          P          R      mAP50   mAP50-95: 100% 2/2 [00:00<00:00,  2.13it/s]\n",
            "                   all        120        137       0.92      0.847      0.912      0.513\n",
            "\n",
            "      Epoch    GPU_mem   box_loss   obj_loss   cls_loss  Instances       Size\n",
            "      35/39      4.83G     0.0268    0.00712          0         35        416: 100% 7/7 [00:02<00:00,  2.76it/s]\n",
            "                 Class     Images  Instances          P          R      mAP50   mAP50-95: 100% 2/2 [00:01<00:00,  1.11it/s]\n",
            "                   all        120        137      0.912      0.861      0.918      0.514\n",
            "\n",
            "      Epoch    GPU_mem   box_loss   obj_loss   cls_loss  Instances       Size\n",
            "      36/39      4.83G    0.02636   0.006969          0         52        416: 100% 7/7 [00:02<00:00,  3.37it/s]\n",
            "                 Class     Images  Instances          P          R      mAP50   mAP50-95: 100% 2/2 [00:00<00:00,  2.18it/s]\n",
            "                   all        120        137      0.927      0.832      0.908      0.514\n",
            "\n",
            "      Epoch    GPU_mem   box_loss   obj_loss   cls_loss  Instances       Size\n",
            "      37/39      4.83G    0.02635   0.007083          0         59        416: 100% 7/7 [00:02<00:00,  3.43it/s]\n",
            "                 Class     Images  Instances          P          R      mAP50   mAP50-95: 100% 2/2 [00:00<00:00,  2.06it/s]\n",
            "                   all        120        137      0.867      0.854      0.909      0.507\n",
            "\n",
            "      Epoch    GPU_mem   box_loss   obj_loss   cls_loss  Instances       Size\n",
            "      38/39      4.83G    0.02537   0.006831          0         41        416: 100% 7/7 [00:02<00:00,  3.35it/s]\n",
            "                 Class     Images  Instances          P          R      mAP50   mAP50-95: 100% 2/2 [00:00<00:00,  2.19it/s]\n",
            "                   all        120        137      0.858      0.898      0.918      0.522\n",
            "\n",
            "      Epoch    GPU_mem   box_loss   obj_loss   cls_loss  Instances       Size\n",
            "      39/39      4.83G    0.02545   0.006886          0         61        416: 100% 7/7 [00:02<00:00,  2.71it/s]\n",
            "                 Class     Images  Instances          P          R      mAP50   mAP50-95: 100% 2/2 [00:01<00:00,  1.23it/s]\n",
            "                   all        120        137      0.856      0.898      0.918      0.522\n",
            "\n",
            "40 epochs completed in 0.047 hours.\n",
            "Optimizer stripped from runs/train/exp/weights/last.pt, 14.3MB\n",
            "Optimizer stripped from runs/train/exp/weights/best.pt, 14.3MB\n",
            "\n",
            "Validating runs/train/exp/weights/best.pt...\n",
            "Fusing layers... \n",
            "YOLOv5s summary: 157 layers, 7012822 parameters, 0 gradients, 15.8 GFLOPs\n",
            "                 Class     Images  Instances          P          R      mAP50   mAP50-95: 100% 2/2 [00:01<00:00,  1.25it/s]\n",
            "                   all        120        137      0.858      0.898      0.918      0.524\n",
            "Results saved to \u001b[1mruns/train/exp\u001b[0m\n"
          ]
        }
      ]
    },
    {
      "cell_type": "code",
      "source": [
        "!python detect.py --weights /content/yolov5/runs/train/exp/weights/best.pt --conf 0.25 --img-size 640 --source /content/drive/MyDrive/車牌/car888.jpg"
      ],
      "metadata": {
        "colab": {
          "base_uri": "https://localhost:8080/"
        },
        "id": "0-7Rd5lKxrcW",
        "outputId": "67aaf54a-6698-4e98-892e-03fa85da2922"
      },
      "execution_count": null,
      "outputs": [
        {
          "output_type": "stream",
          "name": "stdout",
          "text": [
            "\u001b[34m\u001b[1mdetect: \u001b[0mweights=['/content/yolov5/runs/train/exp/weights/best.pt'], source=/content/drive/MyDrive/車牌/car888.jpg, data=data/coco128.yaml, imgsz=[640, 640], conf_thres=0.25, iou_thres=0.45, max_det=1000, device=, view_img=False, save_txt=False, save_csv=False, save_conf=False, save_crop=False, nosave=False, classes=None, agnostic_nms=False, augment=False, visualize=False, update=False, project=runs/detect, name=exp, exist_ok=False, line_thickness=3, hide_labels=False, hide_conf=False, half=False, dnn=False, vid_stride=1\n",
            "YOLOv5 🚀 v7.0-294-gdb125a20 Python-3.10.12 torch-2.1.0+cu121 CUDA:0 (Tesla T4, 15102MiB)\n",
            "\n",
            "Fusing layers... \n",
            "YOLOv5s summary: 157 layers, 7012822 parameters, 0 gradients, 15.8 GFLOPs\n",
            "WARNING ⚠️ NMS time limit 0.550s exceeded\n",
            "image 1/1 /content/drive/MyDrive/車牌/car888.jpg: 448x640 1 licence, 48.9ms\n",
            "Speed: 0.6ms pre-process, 48.9ms inference, 567.5ms NMS per image at shape (1, 3, 640, 640)\n",
            "Results saved to \u001b[1mruns/detect/exp4\u001b[0m\n"
          ]
        }
      ]
    },
    {
      "cell_type": "code",
      "source": [
        "import cv2\n",
        "import torch\n",
        "from PIL import Image\n",
        "from pathlib import Path"
      ],
      "metadata": {
        "id": "rXebCwu4xziH"
      },
      "execution_count": 2,
      "outputs": []
    },
    {
      "cell_type": "code",
      "source": [
        "#直接用輸出的照片截圖，成功但照片出不來\n",
        "\n",
        "import cv2\n",
        "from matplotlib import pyplot as plt\n",
        "\n",
        "# 讀取圖片\n",
        "image = cv2.imread('/content/drive/MyDrive/yolov5/runs/detect/exp4/car888.jpg')\n",
        "\n",
        "# 轉換顏色空間從BGR到HSV\n",
        "hsv = cv2.cvtColor(image, cv2.COLOR_BGR2HSV)\n",
        "\n",
        "# 定義紅色的HSV範圍\n",
        "lower_red = (0, 100, 100)\n",
        "upper_red = (10, 255, 255)\n",
        "\n",
        "# 利用HSV範圍找出紅色區域的mask\n",
        "mask = cv2.inRange(hsv, lower_red, upper_red)\n",
        "\n",
        "# 找出紅色區域的輪廓\n",
        "contours, _ = cv2.findContours(mask, cv2.RETR_EXTERNAL, cv2.CHAIN_APPROX_SIMPLE)\n",
        "\n",
        "# 如果找到了輪廓\n",
        "if contours:\n",
        "    # 假設只有一個紅色物件，取第一個輪廓\n",
        "    red_contour = contours[0]\n",
        "\n",
        "    # 計算輪廓的邊界框\n",
        "    x, y, w, h = cv2.boundingRect(red_contour)\n",
        "\n",
        "    # 裁剪圖像\n",
        "    cropped_image = image[y:y+h, x:x+w]\n",
        "\n",
        "    # 輸出座標\n",
        "    print(\"紅色框左上角座標：({}, {})\".format(x, y))\n",
        "    print(\"紅色框右下角座標：({}, {})\".format(x + w, y + h))\n",
        "\n",
        "    # 顯示裁剪後的圖像\n",
        "    plt.imshow(cv2.cvtColor(cropped_image, cv2.COLOR_BGR2RGB))\n",
        "    plt.axis('off')\n",
        "    plt.show()\n",
        "else:\n",
        "    print(\"未找到紅色物件。\")\n"
      ],
      "metadata": {
        "colab": {
          "base_uri": "https://localhost:8080/"
        },
        "id": "SCwo6m8JOVBf",
        "outputId": "af65b8a7-d46d-4e80-dbca-6a99bcbffbc5"
      },
      "execution_count": 45,
      "outputs": [
        {
          "output_type": "stream",
          "name": "stdout",
          "text": [
            "紅色框左上角座標：(53, 125)\n",
            "紅色框右下角座標：(55, 127)\n"
          ]
        }
      ]
    },
    {
      "cell_type": "code",
      "source": [
        "#用權重偵測車牌在截圖但用不出來\n",
        "import torch\n",
        "from torchvision import transforms\n",
        "from PIL import Image\n",
        "import matplotlib.pyplot as plt\n",
        "import matplotlib.patches as patches\n",
        "\n",
        "# 載入模型權重\n",
        "model_path = '/content/drive/MyDrive/yolov5/runs/train/exp/weights/best.pt'\n",
        "checkpoint = torch.load(model_path)\n",
        "model = checkpoint['model']\n",
        "\n",
        "# 將模型的權重轉換為與輸入張量相同的類型\n",
        "model.to(torch.float32)\n",
        "\n",
        "# 將模型設定為評估模式\n",
        "model.eval()\n",
        "\n",
        "# 讀取圖像\n",
        "image_path = '/content/drive/MyDrive/車牌/car888.jpg'\n",
        "image = Image.open(image_path)\n",
        "\n",
        "# 將圖像轉換為張量並正確地規範化\n",
        "transform = transforms.Compose([\n",
        "    transforms.Resize((416, 416)),  # 將圖像大小調整為模型預期的大小\n",
        "    transforms.ToTensor(),           # 將圖像轉換為張量\n",
        "    transforms.Normalize(mean=[0.485, 0.456, 0.406], std=[0.229, 0.224, 0.225])  # 正規化\n",
        "])\n",
        "image_tensor = transform(image).unsqueeze(0)  # 添加批次維度\n",
        "\n",
        "# 進行目標檢測\n",
        "with torch.no_grad():\n",
        "    results = model(image_tensor)\n",
        "\n",
        "# 顯示偵測結果\n",
        "# 取得車牌框的座標\n",
        "\n",
        "for result in results:\n",
        "    for detection in result:\n",
        "        if detection[2].item() == 2:  # 假設類別2代表車牌\n",
        "            x1, y1, x2, y2 = detection[:4].int().tolist()\n",
        "            print(f\"車牌框的座標：({x1}, {y1}), ({x2}, {y2})\")\n",
        "\n",
        "            # 顯示圖像\n",
        "            plt.imshow(image)\n",
        "            ax = plt.gca()\n",
        "\n",
        "            # 添加矩形框\n",
        "            rect = patches.Rectangle((x1, y1), x2 - x1, y2 - y1, linewidth=2, edgecolor='r', facecolor='none')\n",
        "            ax.add_patch(rect)\n",
        "\n",
        "            plt.axis('off')  # 不顯示座標軸\n",
        "            plt.show()\n"
      ],
      "metadata": {
        "colab": {
          "base_uri": "https://localhost:8080/",
          "height": 211
        },
        "id": "uYBgAHann-Xb",
        "outputId": "c8e0f8d5-e1b1-48fd-84fe-cd1de2a7c147"
      },
      "execution_count": 41,
      "outputs": [
        {
          "output_type": "error",
          "ename": "RuntimeError",
          "evalue": "a Tensor with 6 elements cannot be converted to Scalar",
          "traceback": [
            "\u001b[0;31m---------------------------------------------------------------------------\u001b[0m",
            "\u001b[0;31mRuntimeError\u001b[0m                              Traceback (most recent call last)",
            "\u001b[0;32m<ipython-input-41-217331adc8c6>\u001b[0m in \u001b[0;36m<cell line: 38>\u001b[0;34m()\u001b[0m\n\u001b[1;32m     38\u001b[0m \u001b[0;32mfor\u001b[0m \u001b[0mresult\u001b[0m \u001b[0;32min\u001b[0m \u001b[0mresults\u001b[0m\u001b[0;34m:\u001b[0m\u001b[0;34m\u001b[0m\u001b[0;34m\u001b[0m\u001b[0m\n\u001b[1;32m     39\u001b[0m     \u001b[0;32mfor\u001b[0m \u001b[0mdetection\u001b[0m \u001b[0;32min\u001b[0m \u001b[0mresult\u001b[0m\u001b[0;34m:\u001b[0m\u001b[0;34m\u001b[0m\u001b[0;34m\u001b[0m\u001b[0m\n\u001b[0;32m---> 40\u001b[0;31m         \u001b[0;32mif\u001b[0m \u001b[0mdetection\u001b[0m\u001b[0;34m[\u001b[0m\u001b[0;36m2\u001b[0m\u001b[0;34m]\u001b[0m\u001b[0;34m.\u001b[0m\u001b[0mitem\u001b[0m\u001b[0;34m(\u001b[0m\u001b[0;34m)\u001b[0m \u001b[0;34m==\u001b[0m \u001b[0;36m2\u001b[0m\u001b[0;34m:\u001b[0m  \u001b[0;31m# 假設類別2代表車牌\u001b[0m\u001b[0;34m\u001b[0m\u001b[0;34m\u001b[0m\u001b[0m\n\u001b[0m\u001b[1;32m     41\u001b[0m             \u001b[0mx1\u001b[0m\u001b[0;34m,\u001b[0m \u001b[0my1\u001b[0m\u001b[0;34m,\u001b[0m \u001b[0mx2\u001b[0m\u001b[0;34m,\u001b[0m \u001b[0my2\u001b[0m \u001b[0;34m=\u001b[0m \u001b[0mdetection\u001b[0m\u001b[0;34m[\u001b[0m\u001b[0;34m:\u001b[0m\u001b[0;36m4\u001b[0m\u001b[0;34m]\u001b[0m\u001b[0;34m.\u001b[0m\u001b[0mint\u001b[0m\u001b[0;34m(\u001b[0m\u001b[0;34m)\u001b[0m\u001b[0;34m.\u001b[0m\u001b[0mtolist\u001b[0m\u001b[0;34m(\u001b[0m\u001b[0;34m)\u001b[0m\u001b[0;34m\u001b[0m\u001b[0;34m\u001b[0m\u001b[0m\n\u001b[1;32m     42\u001b[0m             \u001b[0mprint\u001b[0m\u001b[0;34m(\u001b[0m\u001b[0;34mf\"車牌框的座標：({x1}, {y1}), ({x2}, {y2})\"\u001b[0m\u001b[0;34m)\u001b[0m\u001b[0;34m\u001b[0m\u001b[0;34m\u001b[0m\u001b[0m\n",
            "\u001b[0;31mRuntimeError\u001b[0m: a Tensor with 6 elements cannot be converted to Scalar"
          ]
        }
      ]
    },
    {
      "cell_type": "code",
      "source": [
        "#成功(用這個可以利用yolov5本身偵測出車子，然後計算出車子座標並擷取)\n",
        "\n",
        "import cv2\n",
        "from google.colab.patches import cv2_imshow\n",
        "import torch\n",
        "from PIL import Image\n",
        "\n",
        "# 載入YOLOv5模型\n",
        "model = torch.hub.load('ultralytics/yolov5', 'yolov5s')\n",
        "\n",
        "# 讀取原始圖像\n",
        "original_image = cv2.imread(\"/content/drive/MyDrive/車牌/car888.jpg\")\n",
        "\n",
        "# 將原始圖像轉換為PIL格式\n",
        "image_pil = Image.fromarray(cv2.cvtColor(original_image, cv2.COLOR_BGR2RGB))\n",
        "\n",
        "# 進行目標檢測\n",
        "results = model(image_pil)\n",
        "\n",
        "# 取得車牌框的座標\n",
        "plate_boxes = []\n",
        "for detection in results.xyxy[0]:\n",
        "    if detection[5] == 2:  # 假設類別2代表車牌\n",
        "        x1, y1, x2, y2 = detection[:4].int().tolist()\n",
        "        plate_boxes.append((x1, y1, x2, y2))\n",
        "\n",
        "# 擷取車牌位置的部分\n",
        "if plate_boxes:\n",
        "    x1, y1, x2, y2 = plate_boxes[0]  # 假設只有一個車牌框\n",
        "    plate_region = original_image[y1:y2, x1:x2]\n",
        "\n",
        "    # 顯示擷取的車牌位置的部分\n",
        "    cv2_imshow(plate_region)\n",
        "else:\n",
        "    print(\"未偵測到車牌框\")"
      ],
      "metadata": {
        "id": "WV69Ip75ofXb",
        "colab": {
          "base_uri": "https://localhost:8080/",
          "height": 267
        },
        "outputId": "cc13fbc5-0e9e-4a80-991a-10605d77f3cb"
      },
      "execution_count": 32,
      "outputs": [
        {
          "output_type": "stream",
          "name": "stderr",
          "text": [
            "Using cache found in /root/.cache/torch/hub/ultralytics_yolov5_master\n",
            "YOLOv5 🚀 2024-3-22 Python-3.10.12 torch-2.2.1+cu121 CUDA:0 (Tesla T4, 15102MiB)\n",
            "\n",
            "Fusing layers... \n",
            "YOLOv5s summary: 213 layers, 7225885 parameters, 0 gradients, 16.4 GFLOPs\n",
            "Adding AutoShape... \n",
            "WARNING ⚠️ NMS time limit 0.550s exceeded\n"
          ]
        },
        {
          "output_type": "display_data",
          "data": {
            "text/plain": [
              "<PIL.Image.Image image mode=RGB size=197x129>"
            ],
            "image/png": "[encoded data removed]"
          },
          "metadata": {}
        }
      ]
    }
  ]
}