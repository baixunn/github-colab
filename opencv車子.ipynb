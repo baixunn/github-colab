{
  "nbformat": 4,
  "nbformat_minor": 0,
  "metadata": {
    "colab": {
      "provenance": [],
      "authorship_tag": "ABX9TyMh7bBzO7kM2c3mL8q74RMp",
      "include_colab_link": true
    },
    "kernelspec": {
      "name": "python3",
      "display_name": "Python 3"
    },
    "language_info": {
      "name": "python"
    }
  },
  "cells": [
    {
      "cell_type": "markdown",
      "metadata": {
        "id": "view-in-github",
        "colab_type": "text"
      },
      "source": [
        "<a href=\"https://colab.research.google.com/github/wenchun0731/github-colab/blob/try/opencv%E8%BB%8A%E5%AD%90.ipynb\" target=\"_parent\"><img src=\"https://colab.research.google.com/assets/colab-badge.svg\" alt=\"Open In Colab\"/></a>"
      ]
    },
    {
      "cell_type": "code",
      "execution_count": null,
      "metadata": {
        "id": "6PYZWdtz1hpk"
      },
      "outputs": [],
      "source": [
        "import cv2\n",
        "\n",
        "# 讀取圖像\n",
        "img = cv2.imread('plates33.jpg')"
      ]
    },
    {
      "cell_type": "code",
      "source": [
        "from google.colab.patches import cv2_imshow\n",
        "cv2_imshow(img)"
      ],
      "metadata": {
        "id": "xu8BCzQV1s6T"
      },
      "execution_count": null,
      "outputs": []
    },
    {
      "cell_type": "code",
      "source": [
        "#轉換成灰度圖像\n",
        "gray = cv2.cvtColor(img, cv2.COLOR_BGR2GRAY)"
      ],
      "metadata": {
        "id": "8XXDvZvZ1vaN"
      },
      "execution_count": null,
      "outputs": []
    },
    {
      "cell_type": "code",
      "source": [
        "cv2_imshow(gray)"
      ],
      "metadata": {
        "id": "r6LSjmfJtqgn"
      },
      "execution_count": null,
      "outputs": []
    },
    {
      "cell_type": "code",
      "source": [
        "#模糊處理\n",
        "img_blur = cv2.GaussianBlur(gray, (19,19), 0)"
      ],
      "metadata": {
        "id": "s0A8pOs911Jn"
      },
      "execution_count": null,
      "outputs": []
    },
    {
      "cell_type": "code",
      "source": [
        "cv2_imshow(img_blur)"
      ],
      "metadata": {
        "id": "CopogiIm2Ly2"
      },
      "execution_count": null,
      "outputs": []
    },
    {
      "cell_type": "code",
      "source": [
        "#邊緣檢測\n",
        "img_canny = cv2.Canny(img, 30, 150)"
      ],
      "metadata": {
        "id": "DZKSUxVz2Ovz"
      },
      "execution_count": null,
      "outputs": []
    },
    {
      "cell_type": "code",
      "source": [
        "cv2_imshow(img_canny)"
      ],
      "metadata": {
        "id": "psSx6Wgq2WMR"
      },
      "execution_count": null,
      "outputs": []
    },
    {
      "cell_type": "code",
      "source": [
        "#提取車牌輪廓\n",
        "from matplotlib import pyplot as plt\n",
        "contours, hierarchy = cv2.findContours(img_canny, cv2.RETR_EXTERNAL, cv2.CHAIN_APPROX_SIMPLE)\n",
        "contours = sorted(contours, key=cv2.contourArea, reverse=True)[:10]\n",
        "for item in contours:\n",
        "    rect = cv2.boundingRect(item)\n",
        "    x = rect[0]\n",
        "    y = rect[1]\n",
        "    width = rect[2]\n",
        "    height = rect[3]\n",
        "    if width / height > 2:\n",
        "        cv2.rectangle(img, (x, y), (x+width, y+height), (0, 0, 255), 3)\n",
        "        crop_img = gray[y:y+height, x:x+width]\n",
        "        cv2_imshow(img)\n",
        "        # if not crop_img is None:\n",
        "        #     # Convert to RGB\n",
        "        #     #crop_img_rgb = cv2.cvtColor(crop_img, cv2.COLOR_GRAY2RGB)\n",
        "        #     plt.imshow(crop_img, cmap='gray')\n",
        "        #     # Display cropped image\n",
        "\n",
        "        #     plt.axis('off')\n",
        "        #     plt.show()"
      ],
      "metadata": {
        "id": "AmK978l82VRs"
      },
      "execution_count": null,
      "outputs": []
    },
    {
      "cell_type": "code",
      "source": [
        "!apt install tesseract-ocr\n",
        "!apt install libtesseract-dev\n",
        "!pip install pytesseract\n",
        "!pip install pillow\n",
        "import pytesseract\n",
        "text = pytesseract.image_to_string(crop_img)\n",
        "\n",
        "print(text)"
      ],
      "metadata": {
        "id": "F8i_RHDT1Cdi"
      },
      "execution_count": null,
      "outputs": []
    }
  ]
}